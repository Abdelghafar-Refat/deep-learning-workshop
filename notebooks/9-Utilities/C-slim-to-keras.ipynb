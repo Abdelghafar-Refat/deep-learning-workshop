{
 "cells": [
  {
   "cell_type": "markdown",
   "metadata": {
    "deletable": true,
    "editable": true
   },
   "source": [
    "# Copy a Pretrained Network between Frameworks\n",
    "\n",
    "Since a large CNN is very time-consuming to train (even on a GPU), and requires huge amounts of data, is there any way to use a pre-calculated one instead of retraining the whole thing from scratch?  \n",
    "\n",
    "This notebook shows how this can be done, so that the same data can be used in a different framework.\n",
    "\n",
    "The code here is slightly rough-and-ready, since to be interested in doing it assumes some level of familiarity..."
   ]
  },
  {
   "cell_type": "code",
   "execution_count": null,
   "metadata": {
    "collapsed": false,
    "deletable": true,
    "editable": true,
    "scrolled": true
   },
   "outputs": [],
   "source": [
    "import tensorflow as tf\n",
    "import numpy as np"
   ]
  },
  {
   "cell_type": "markdown",
   "metadata": {
    "deletable": true,
    "editable": true
   },
   "source": [
    "### Add TensorFlow Slim Model Zoo to path"
   ]
  },
  {
   "cell_type": "code",
   "execution_count": null,
   "metadata": {
    "collapsed": false,
    "deletable": true,
    "editable": true,
    "scrolled": true
   },
   "outputs": [],
   "source": [
    "import os, sys\n",
    "better_instructions = '2-CNN/4-ImageNet/4-ImageClassifier-inception_tf.ipynb'\n",
    "\n",
    "if not os.path.isfile( '../models/tensorflow_zoo/models/README.md' ):\n",
    "    print(\"Please follow the instructions in %s to get the Slim-Model-Zoo installed\" % better_instructions)\n",
    "else:\n",
    "    sys.path.append(slim_models_dir + \"/models/slim\")\n",
    "    print(\"Model Zoo model code installed\")"
   ]
  },
  {
   "cell_type": "code",
   "execution_count": null,
   "metadata": {
    "collapsed": false,
    "deletable": true,
    "editable": true,
    "scrolled": true
   },
   "outputs": [],
   "source": [
    "from datasets import dataset_utils\n",
    "\n",
    "checkpoint_file = '../data/tensorflow_zoo/checkpoints/inception_v1.ckpt'\n",
    "if not os.path.isfile( checkpoint_file ):\n",
    "    print(\"Please follow the instructions in %s to get the Checkpoint installed\" % better_instructions)\n",
    "else:\n",
    "    print(\"Checkpoint available locally\")"
   ]
  },
  {
   "cell_type": "code",
   "execution_count": null,
   "metadata": {
    "collapsed": false,
    "deletable": true,
    "editable": true,
    "scrolled": true
   },
   "outputs": [],
   "source": [
    "if not os.path.isfile('../data/imagenet_synset_words.txt'):\n",
    "    print(\"Please follow the instructions in %s to get the synset_words file\" % better_instructions)\n",
    "else:    \n",
    "    print(\"ImageNet synset labels available\")"
   ]
  },
  {
   "cell_type": "markdown",
   "metadata": {},
   "source": [
    "### Build the model in TensorFlow"
   ]
  },
  {
   "cell_type": "code",
   "execution_count": null,
   "metadata": {
    "collapsed": false,
    "deletable": true,
    "editable": true,
    "scrolled": true
   },
   "outputs": [],
   "source": [
    "slim = tf.contrib.slim\n",
    "from nets import inception\n",
    "#from preprocessing import inception_preprocessing\n",
    "\n",
    "#image_size = inception.inception_v1.default_image_size\n",
    "#image_size"
   ]
  },
  {
   "cell_type": "code",
   "execution_count": null,
   "metadata": {
    "collapsed": false,
    "deletable": true,
    "editable": true,
    "scrolled": true
   },
   "outputs": [],
   "source": [
    "tf.reset_default_graph()\n",
    "\n",
    "if False:\n",
    "    # Define the pre-processing chain within the graph - from a raw image\n",
    "    input_image = tf.placeholder(tf.uint8, shape=[None, None, None, 3], name='input_image')\n",
    "    processed_image = inception_preprocessing.preprocess_image(input_image, image_size, image_size, is_training=False)\n",
    "    processed_images = tf.expand_dims(processed_image, 0)\n",
    "\n",
    "processed_images = tf.placeholder(tf.float32, shape=[None, None, None, 3], name='input_image')\n",
    "\n",
    "# Create the model - which uses the above pre-processing on image\n",
    "#   it also uses the default arg scope to configure the batch norm parameters.\n",
    "print(\"Model builder starting\")\n",
    "\n",
    "# Here is the actual model zoo model being instantiated :\n",
    "with slim.arg_scope(inception.inception_v1_arg_scope()):\n",
    "    logits, _ = inception.inception_v1(processed_images, num_classes=1001, is_training=False)\n",
    "#probabilities = tf.nn.softmax(logits)\n",
    "\n",
    "# Create an operation that loads the pre-trained model from the checkpoint\n",
    "init_fn = slim.assign_from_checkpoint_fn(checkpoint_file, slim.get_model_variables('InceptionV1') )\n",
    "\n",
    "print(\"Model defined\")"
   ]
  },
  {
   "cell_type": "markdown",
   "metadata": {
    "collapsed": false,
    "deletable": true,
    "editable": true
   },
   "source": [
    "### Get the values from the TF model into a NumPy structure\n",
    "Mostly because it's easier for me to reason about NumPy..."
   ]
  },
  {
   "cell_type": "code",
   "execution_count": null,
   "metadata": {
    "collapsed": false,
    "deletable": true,
    "editable": true
   },
   "outputs": [],
   "source": [
    "capture_names =[] \n",
    "capture_values=dict()\n",
    "\n",
    "# Now let's run the pre-trained model\n",
    "with tf.Session() as sess:\n",
    "    # This is the loader 'op' we defined above\n",
    "    init_fn(sess)  \n",
    "    \n",
    "    # This is two ops : one merely loads the image from numpy, \n",
    "    #   the other runs the network to get the class probabilities\n",
    "    #np_image, np_probs = sess.run([numpyish_image, probabilities], feed_dict={input_image:im_sq})\n",
    "    \n",
    "    variables = tf.trainable_variables()\n",
    "    #variables = tf.model_variables()  # includes moving average information\n",
    "    for variable in variables:\n",
    "        name, value = variable.name, variable.eval()\n",
    "        capture_names.append(name)\n",
    "        capture_values[name] = value\n",
    "        print(\"%20s %s \" % (value.shape, name, ))"
   ]
  },
  {
   "cell_type": "markdown",
   "metadata": {
    "deletable": true,
    "editable": true
   },
   "source": [
    "----------\n",
    "## Define the Model Structure in Framework 'B'\n",
    "\n",
    "( choosing Keras here )\n"
   ]
  },
  {
   "cell_type": "code",
   "execution_count": null,
   "metadata": {
    "collapsed": false
   },
   "outputs": [],
   "source": [
    "# This is taken from https://github.com/fchollet/deep-learning-models/blob/master/inception_v3.py\n",
    "from keras.models import Model\n",
    "from keras import layers\n",
    "from keras.layers import Activation\n",
    "from keras.layers import Dense\n",
    "from keras.layers import Input\n",
    "from keras.layers import BatchNormalization\n",
    "from keras.layers import Conv2D\n",
    "from keras.layers import MaxPooling2D\n",
    "from keras.layers import AveragePooling2D\n",
    "from keras.layers import GlobalAveragePooling2D\n",
    "from keras.layers import GlobalMaxPooling2D\n",
    "from keras.engine.topology import get_source_inputs\n",
    "from keras.utils.layer_utils import convert_all_kernels_in_model\n",
    "from keras.utils.data_utils import get_file\n",
    "from keras import backend as K\n",
    "from keras.applications.imagenet_utils import decode_predictions\n",
    "from keras.applications.imagenet_utils import _obtain_input_shape\n",
    "from keras.preprocessing import image"
   ]
  },
  {
   "cell_type": "code",
   "execution_count": null,
   "metadata": {
    "collapsed": true
   },
   "outputs": [],
   "source": [
    "# This is taken from https://github.com/fchollet/deep-learning-models/blob/master/inception_v3.py\n",
    "def conv2d_bn(x,\n",
    "              filters,\n",
    "              num_row,\n",
    "              num_col,\n",
    "              padding='same',\n",
    "              strides=(1, 1),\n",
    "              normalizer=True,\n",
    "              activation='relu',\n",
    "              name=None):\n",
    "    \"\"\"Utility function to apply conv + BN.\n",
    "    Arguments:\n",
    "        x: input tensor.\n",
    "        filters: filters in `Conv2D`.\n",
    "        num_row: height of the convolution kernel.\n",
    "        num_col: width of the convolution kernel.\n",
    "        padding: padding mode in `Conv2D`.\n",
    "        strides: strides in `Conv2D`.\n",
    "        name: name of the ops; will become `name + '_conv'`\n",
    "            for the convolution and `name + '_bn'` for the\n",
    "            batch norm layer.\n",
    "    Returns:\n",
    "        Output tensor after applying `Conv2D` and `BatchNormalization`.\n",
    "    \"\"\"\n",
    "    if name is not None:\n",
    "        bn_name = name + '_bn'\n",
    "        conv_name = name + '_conv'\n",
    "    else:\n",
    "        bn_name = None\n",
    "        conv_name = None\n",
    "    if K.image_data_format() == 'channels_first':\n",
    "        bn_axis = 1\n",
    "    else:\n",
    "        bn_axis = 3\n",
    "    x = Conv2D(\n",
    "        filters, (num_row, num_col),\n",
    "        strides=strides,\n",
    "        padding=padding,\n",
    "        use_bias=False,\n",
    "        name=conv_name)(x)\n",
    "    if normalizer:\n",
    "        x = BatchNormalization(axis=bn_axis, scale=False, name=bn_name)(x)\n",
    "    if activation:\n",
    "        x = Activation(activation, name=name)(x)\n",
    "    return x"
   ]
  },
  {
   "cell_type": "code",
   "execution_count": null,
   "metadata": {
    "collapsed": true
   },
   "outputs": [],
   "source": [
    "# Convenience function for 'standard' Inception concatenated blocks\n",
    "def concatenated_block(x, specs, channel_axis, name):\n",
    "    (b0, b1, b2, b3) = specs   # ((64,), (96,128), (16,32), (32,))\n",
    "    \n",
    "    branch_0 = conv2d_bn(x, b0[0], 1, 1)\n",
    "\n",
    "    branch_1 = conv2d_bn(x, b1[0], 1, 1)\n",
    "    branch_1 = conv2d_bn(branch_1, b1[1], 3, 3)\n",
    "\n",
    "    branch_2 = conv2d_bn(x, b2[0], 1, 1)\n",
    "    branch_2 = conv2d_bn(branch_2, b2[1], 3, 3)\n",
    "\n",
    "    branch_3 = MaxPooling2D( (3, 3) )(x)  \n",
    "    branch_3 = conv2d_bn(branch_3, b3[0], 1, 1)\n",
    "\n",
    "    x = layers.concatenate(\n",
    "        [branch_0, branch_1, branch_2, branch_3,],\n",
    "        axis=channel_axis,\n",
    "        name=name)\n",
    "    return x"
   ]
  },
  {
   "cell_type": "code",
   "execution_count": null,
   "metadata": {
    "collapsed": true,
    "deletable": true,
    "editable": true,
    "scrolled": true
   },
   "outputs": [],
   "source": [
    "def InceptionV1(include_top=True,\n",
    "                weights='imagenet',\n",
    "                input_tensor=None,\n",
    "                input_shape=None,\n",
    "                pooling=None,\n",
    "                classes=1000):\n",
    "    \"\"\"Instantiates the Inception v1 architecture.\n",
    "\n",
    "    This architecture is defined in:\n",
    "        Going deeper with convolutions\n",
    "        Christian Szegedy, Wei Liu, Yangqing Jia, Pierre Sermanet, Scott Reed,\n",
    "        Dragomir Anguelov, Dumitru Erhan, Vincent Vanhoucke, Andrew Rabinovich.\n",
    "        http://arxiv.org/pdf/1409.4842v1.pdf.\n",
    "    \n",
    "    Optionally loads weights pre-trained\n",
    "    on ImageNet. Note that when using TensorFlow,\n",
    "    for best performance you should set\n",
    "    `image_data_format=\"channels_last\"` in your Keras config\n",
    "    at ~/.keras/keras.json.\n",
    "    The model and the weights are compatible with both\n",
    "    TensorFlow and Theano. The data format\n",
    "    convention used by the model is the one\n",
    "    specified in your Keras config file.\n",
    "    Note that the default input image size for this model is 224x224.\n",
    "    Arguments:\n",
    "        include_top: whether to include the fully-connected\n",
    "            layer at the top of the network.\n",
    "        weights: one of `None` (random initialization)\n",
    "            or \"imagenet\" (pre-training on ImageNet).\n",
    "        input_tensor: optional Keras tensor (i.e. output of `layers.Input()`)\n",
    "            to use as image input for the model.\n",
    "        input_shape: optional shape tuple, only to be specified\n",
    "            if `include_top` is False (otherwise the input shape\n",
    "            has to be `(224, 224, 3)` (with `channels_last` data format)\n",
    "            or `(3, 224, 224)` (with `channels_first` data format).\n",
    "            It should have exactly 3 inputs channels,\n",
    "            and width and height should be no smaller than 139.\n",
    "            E.g. `(150, 150, 3)` would be one valid value.\n",
    "        pooling: Optional pooling mode for feature extraction\n",
    "            when `include_top` is `False`.\n",
    "            - `None` means that the output of the model will be\n",
    "                the 4D tensor output of the\n",
    "                last convolutional layer.\n",
    "            - `avg` means that global average pooling\n",
    "                will be applied to the output of the\n",
    "                last convolutional layer, and thus\n",
    "                the output of the model will be a 2D tensor.\n",
    "            - `max` means that global max pooling will\n",
    "                be applied.\n",
    "        classes: optional number of classes to classify images\n",
    "            into, only to be specified if `include_top` is True, and\n",
    "            if no `weights` argument is specified.\n",
    "    Returns:\n",
    "        A Keras model instance.\n",
    "    Raises:\n",
    "        ValueError: in case of invalid argument for `weights`,\n",
    "            or invalid input shape.\n",
    "    \"\"\"\n",
    "    if weights not in {'imagenet', None}:\n",
    "        raise ValueError('The `weights` argument should be either '\n",
    "                         '`None` (random initialization) or `imagenet` '\n",
    "                         '(pre-training on ImageNet).')\n",
    "\n",
    "    if weights == 'imagenet' and include_top and classes != 1000:\n",
    "        raise ValueError('If using `weights` as imagenet with `include_top`'\n",
    "                         ' as true, `classes` should be 1000')\n",
    "\n",
    "    # Determine proper input shape\n",
    "    input_shape = _obtain_input_shape(\n",
    "        input_shape,\n",
    "        #default_size=299,\n",
    "        default_size=224,\n",
    "        min_size=139,\n",
    "        data_format=K.image_data_format(),\n",
    "        include_top=include_top)\n",
    "\n",
    "    if input_tensor is None:\n",
    "        img_input = Input(shape=input_shape)\n",
    "    else:\n",
    "        img_input = Input(tensor=input_tensor, shape=input_shape)\n",
    "\n",
    "    if K.image_data_format() == 'channels_first':\n",
    "        channel_axis = 1\n",
    "    else:\n",
    "        channel_axis = 3\n",
    "\n",
    "    # 'Sequential bit at start'\n",
    "    \n",
    "    # 'Conv2d_1a_7x7'\n",
    "    x = conv2d_bn(img_input, 64, 7, 7, strides=(2, 2), padding='valid')  \n",
    "\n",
    "    # 'MaxPool_2a_3x3'\n",
    "    x = MaxPooling2D((3, 3), strides=(2, 2))(x)  \n",
    "    \n",
    "    \n",
    "    # 'Conv2d_2b_1x1'\n",
    "    x = conv2d_bn(x,  64, 1, 1, strides=(1, 1), padding='valid')  \n",
    "    \n",
    "    # 'Conv2d_2c_3x3'\n",
    "    x = conv2d_bn(x, 192, 3, 3, strides=(1, 1), padding='valid')  \n",
    "\n",
    "    # 'MaxPool_3a_3x3'\n",
    "    x = MaxPooling2D((3, 3), strides=(2, 2))(x)  \n",
    "\n",
    "\n",
    "    # This the 'Mixed_3b' concatenated block\n",
    "    x = concatenated_block(x, (( 64,), ( 96,128), (16, 32), ( 32,)), channel_axis, 'Mixed_3b')\n",
    "\n",
    "    # This the 'Mixed_3c' concatenated block\n",
    "    x = concatenated_block(x, ((128,), (128,192), (32, 96), ( 64,)), channel_axis, 'Mixed_3c')\n",
    "\n",
    "    \n",
    "    # 'MaxPool_4a_3x3'\n",
    "    x = MaxPooling2D((3, 3), strides=(2, 2))(x)  \n",
    "\n",
    "    \n",
    "    # This the 'Mixed_4b' concatenated block\n",
    "    x = concatenated_block(x, ((192,), ( 96,208), (16, 48), ( 64,)), channel_axis, 'Mixed_4b')\n",
    "    \n",
    "    # This the 'Mixed_4c' concatenated block\n",
    "    x = concatenated_block(x, ((160,), (112,224), (24, 64), ( 64,)), channel_axis, 'Mixed_4c')\n",
    "    \n",
    "    # This the 'Mixed_4d' concatenated block\n",
    "    x = concatenated_block(x, ((128,), (128,256), (24, 64), ( 64,)), channel_axis, 'Mixed_4d')\n",
    "    \n",
    "    # This the 'Mixed_4e' concatenated block\n",
    "    x = concatenated_block(x, ((112,), (144,288), (32, 64), ( 64,)), channel_axis, 'Mixed_4e')\n",
    "\n",
    "    # This the 'Mixed_4f' concatenated block\n",
    "    x = concatenated_block(x, ((256,), (160,320), (32,128), (128,)), channel_axis, 'Mixed_4f')\n",
    "\n",
    "    \n",
    "    # 'MaxPool_5a_2x2'\n",
    "    x = MaxPooling2D((2, 2), strides=(2, 2))(x)  \n",
    "\n",
    "\n",
    "    # This the 'Mixed_5b' concatenated block\n",
    "    x = concatenated_block(x, ((256,), (160,320), (32,128), (128,)), channel_axis, 'Mixed_5b')\n",
    "    \n",
    "    # This the 'Mixed_5c' concatenated block\n",
    "    x = concatenated_block(x, ((384,), (192,384), (48,128), (128,)), channel_axis, 'Mixed_5c')\n",
    "    \n",
    "\n",
    "    if include_top:\n",
    "        # Classification block\n",
    "        \n",
    "        #x = GlobalAveragePooling2D(name='avg_pool')(x)\n",
    "        # Drop out layer goes here?\n",
    "        #x = Dense(classes, activation='softmax', name='predictions')(x)\n",
    "        \n",
    "        # 'AvgPool_0a_7x7'\n",
    "        x = AvPooling2D((7, 7), strides=(1, 1))(x)  \n",
    "        \n",
    "        # 'Dropout_0b'\n",
    "        # ??\n",
    "        \n",
    "        #x == softmax( logits )\n",
    "        logits = conv2d_bn(x,  num_classes, 1, 1, strides=(1, 1), padding='valid', normalizer=False, activation=None)  \n",
    "        x = Activation('softmax', name='predictions')(logits)\n",
    "    else:\n",
    "        if pooling == 'avg':\n",
    "            x = GlobalAveragePooling2D()(x)\n",
    "        elif pooling == 'max':\n",
    "            x = GlobalMaxPooling2D()(x)\n",
    "\n",
    "    # Ensure that the model takes into account\n",
    "    # any potential predecessors of `input_tensor`.\n",
    "    if input_tensor is not None:\n",
    "        inputs = get_source_inputs(input_tensor)\n",
    "    else:\n",
    "        inputs = img_input\n",
    "        \n",
    "    # Create model.\n",
    "    model = Model(inputs, x, name='inception_v1')\n",
    "    \n",
    "    \"\"\" Slim model ::\n",
    "\n",
    "    \"\"\""
   ]
  },
  {
   "cell_type": "code",
   "execution_count": null,
   "metadata": {
    "collapsed": true
   },
   "outputs": [],
   "source": []
  }
 ],
 "metadata": {
  "kernelspec": {
   "display_name": "Python 3",
   "language": "python",
   "name": "python3"
  },
  "language_info": {
   "codemirror_mode": {
    "name": "ipython",
    "version": 3
   },
   "file_extension": ".py",
   "mimetype": "text/x-python",
   "name": "python",
   "nbconvert_exporter": "python",
   "pygments_lexer": "ipython3",
   "version": "3.5.2"
  }
 },
 "nbformat": 4,
 "nbformat_minor": 0
}