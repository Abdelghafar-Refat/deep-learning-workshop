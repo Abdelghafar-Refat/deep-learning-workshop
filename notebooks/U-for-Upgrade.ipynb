{
 "cells": [
  {
   "cell_type": "markdown",
   "metadata": {},
   "source": [
    "## Upgrade this VM from online sources\n",
    "\n",
    "Execute the cells below to upgrade from online sources.  This is typically done when you've downloaded a VirtualBox Applicance before, and just want to update the notebooks and other data.  \n",
    "\n",
    "NB : *Don't do this if you're not running the VM!  Just ```git pull``` for the latest updates*"
   ]
  },
  {
   "cell_type": "code",
   "execution_count": null,
   "metadata": {
    "collapsed": false
   },
   "outputs": [],
   "source": [
    "# Define the version number of this VirtualBox Appliance\n",
    "with open('../config/vbox_name', 'rt') as f:\n",
    "    repo,dt,tm=f.read().strip().split('_')\n",
    "repo,dt,tm"
   ]
  },
  {
   "cell_type": "code",
   "execution_count": null,
   "metadata": {
    "collapsed": true
   },
   "outputs": [],
   "source": [
    "# Repo to download from :\n",
    "repo_base='https://raw.githubusercontent.com/mdda/deep-learning-workshop/'\n",
    "path_to_updates='master/notebooks/model/updates.py'\n",
    "\n",
    "#  Download the changes 'script', so we can find the changes that were made after this VM was created\n",
    "import requests\n",
    "\n",
    "updates = requests.get(repo_base+path_to_updates)\n",
    "with open('model/updates_current.py', 'wt') as f:\n",
    "    f.write(updates.content)"
   ]
  },
  {
   "cell_type": "code",
   "execution_count": null,
   "metadata": {
    "collapsed": false
   },
   "outputs": [],
   "source": [
    "%load model/updates_current.py"
   ]
  },
  {
   "cell_type": "code",
   "execution_count": null,
   "metadata": {
    "collapsed": true
   },
   "outputs": [],
   "source": []
  }
 ],
 "metadata": {
  "kernelspec": {
   "display_name": "Python 2",
   "language": "python",
   "name": "python2"
  },
  "language_info": {
   "codemirror_mode": {
    "name": "ipython",
    "version": 2
   },
   "file_extension": ".py",
   "mimetype": "text/x-python",
   "name": "python",
   "nbconvert_exporter": "python",
   "pygments_lexer": "ipython2",
   "version": "2.7.11"
  }
 },
 "nbformat": 4,
 "nbformat_minor": 0
}