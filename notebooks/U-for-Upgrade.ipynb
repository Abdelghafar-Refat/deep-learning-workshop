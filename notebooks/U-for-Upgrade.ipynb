{
 "cells": [
  {
   "cell_type": "markdown",
   "metadata": {},
   "source": [
    "## Upgrade this VM from online sources\n",
    "\n",
    "Execute the cells below to upgrade from online sources.  This is typically done when you've downloaded a VirtualBox Applicance before, and just want to update the notebooks and other data.  \n",
    "\n",
    "NB : *Don't do this if you're not running the VM!  Just ```git pull``` for the latest updates*"
   ]
  },
  {
   "cell_type": "code",
   "execution_count": 18,
   "metadata": {
    "collapsed": false
   },
   "outputs": [],
   "source": [
    "# Define the version number of this VirtualBox Appliance - dates will sort 'alphabetically'\n",
    "with open('../config/vbox_name', 'rt') as f:\n",
    "    repo,dt,tm=f.read().strip().split('_')\n",
    "dt_tm = \"%s_%s\" % (dt,tm)\n",
    "repo,dt,tm"
   ]
  },
  {
   "cell_type": "code",
   "execution_count": 19,
   "metadata": {
    "collapsed": false
   },
   "outputs": [],
   "source": [
    "# Repo to download from :\n",
    "repo_base='https://raw.githubusercontent.com/mdda/deep-learning-workshop/'\n",
    "path_to_updates='master/notebooks/model/updates.py'\n",
    "\n",
    "#  Download the changes 'script', so we can find the changes that were made after this VM was created\n",
    "import requests\n",
    "\n",
    "updates = requests.get(repo_base+path_to_updates)\n",
    "if updates.status_code == 200:\n",
    "    with open('model/updates_current.py', 'wt') as f:\n",
    "        f.write(updates.content)\n",
    "        print(\"file : updates_current.py downloaded successfully\")\n",
    "else:\n",
    "    print(\"Download unsuccessful : Complain!\")    "
   ]
  },
  {
   "cell_type": "markdown",
   "metadata": {},
   "source": [
    "#### With the ```updates_current.py``` downloaded ...\n",
    "\n",
    "Execute the following cell, to pull the content into the workbook.  \n",
    "Then execute that content (i.e. the same cell twice) to perform the update itself."
   ]
  },
  {
   "cell_type": "code",
   "execution_count": 16,
   "metadata": {
    "collapsed": false
   },
   "outputs": [],
   "source": [
    "%load model/updates_current.py"
   ]
  },
  {
   "cell_type": "markdown",
   "metadata": {},
   "source": [
    "### That's all folks!\n",
    "\n",
    "If you want to 're-upgrade', you'll need to edit the cell above to reload the newest ```model/updates_current.py```, by making it look like : \n",
    "\n",
    "```\n",
    "%load model/updates_current.py\n",
    "```\n",
    "\n",
    "and executing it again ... twice."
   ]
  }
 ],
 "metadata": {
  "kernelspec": {
   "display_name": "Python 2",
   "language": "python",
   "name": "python2"
  },
  "language_info": {
   "codemirror_mode": {
    "name": "ipython",
    "version": 2
   },
   "file_extension": ".py",
   "mimetype": "text/x-python",
   "name": "python",
   "nbconvert_exporter": "python",
   "pygments_lexer": "ipython2",
   "version": "2.7.11"
  }
 },
 "nbformat": 4,
 "nbformat_minor": 0
}