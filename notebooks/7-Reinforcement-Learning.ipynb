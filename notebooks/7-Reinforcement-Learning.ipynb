{
 "cells": [
  {
   "cell_type": "code",
   "execution_count": null,
   "metadata": {
    "collapsed": false
   },
   "outputs": [],
   "source": [
    "# https://jakevdp.github.io/blog/2013/06/01/ipython-notebook-javascript-python-communication/\n",
    "# https://github.com/fluxtream/fluxtream-ipy/\n",
    "#   blob/master/Communication%20between%20kernel%20and%20javascript%20in%20iPython%202.0.ipynb"
   ]
  },
  {
   "cell_type": "code",
   "execution_count": 1,
   "metadata": {
    "collapsed": false,
    "scrolled": true
   },
   "outputs": [],
   "source": [
    "from IPython.display import HTML\n",
    "from game import crush\n",
    "from game import crush_ui\n",
    "reload(crush)\n",
    "reload(crush_ui)\n",
    "\n",
    "javascript = \"\"\"\n",
    "<div id=\"board_10_14\"></div>\n",
    "<script type=\"text/Javascript\">\n",
    "create_board(\"#board_10_14\",10,14,5);\n",
    "</script>\n",
    "\"\"\"\n",
    "#HTML(crush_ui.javascript_test)\n",
    "HTML(crush_ui.javascript_base+javascript)"
   ]
  },
  {
   "cell_type": "code",
   "execution_count": 2,
   "metadata": {
    "collapsed": false
   },
   "outputs": [],
   "source": [
    "from game import crush, crush_ui\n",
    "reload(crush)\n",
    "reload(crush_ui)\n",
    "board = crush.new_board(10, 14, n_colours=5)\n",
    "HTML(crush_ui.display_via_javascript_script(\"#board_10_14\", board))"
   ]
  }
 ],
 "metadata": {
  "kernelspec": {
   "display_name": "Python 2",
   "language": "python",
   "name": "python2"
  },
  "language_info": {
   "codemirror_mode": {
    "name": "ipython",
    "version": 2
   },
   "file_extension": ".py",
   "mimetype": "text/x-python",
   "name": "python",
   "nbconvert_exporter": "python",
   "pygments_lexer": "ipython2",
   "version": "2.7.11"
  }
 },
 "nbformat": 4,
 "nbformat_minor": 0
}