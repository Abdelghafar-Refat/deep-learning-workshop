{
 "cells": [
  {
   "cell_type": "code",
   "execution_count": 1,
   "metadata": {
    "collapsed": false
   },
   "outputs": [],
   "source": [
    "# https://jakevdp.github.io/blog/2013/06/01/ipython-notebook-javascript-python-communication/\n",
    "\n",
    "from IPython.display import HTML\n",
    "\n",
    "input_form = \"\"\"\n",
    "<div style=\"background-color:gainsboro; border:solid black; width:300px; padding:20px;\">\n",
    "Variable Name: <input type=\"text\" id=\"var_name\" value=\"foo\"><br>\n",
    "Variable Value: <input type=\"text\" id=\"var_value\" value=\"bar\"><br>\n",
    "<button onclick=\"set_value()\">Set Value</button>\n",
    "</div>\n",
    "\"\"\"\n",
    "\n",
    "javascript = \"\"\"\n",
    "<script type=\"text/Javascript\">\n",
    "    function set_value(){\n",
    "        var var_name = document.getElementById('var_name').value;\n",
    "        var var_value = document.getElementById('var_value').value;\n",
    "        var command = var_name + \" = '\" + var_value + \"'\";\n",
    "        console.log(\"Executing Command: \" + command);\n",
    "        \n",
    "        var kernel = IPython.notebook.kernel;\n",
    "        kernel.execute(command);\n",
    "    }\n",
    "</script>\n",
    "\"\"\"\n",
    "\n",
    "HTML(input_form + javascript)"
   ]
  },
  {
   "cell_type": "code",
   "execution_count": 73,
   "metadata": {
    "collapsed": false,
    "scrolled": true
   },
   "outputs": [],
   "source": [
    "from IPython.display import HTML\n",
    "\n",
    "javascript_base = \"\"\"\n",
    "<script type=\"text/Javascript\">\n",
    "function create_board(board_id, horizontal, vertical) {\n",
    "    //var board_id=\"#board_\"+horizontal+\"_\"+vertical;\n",
    "    if($(board_id).children().length==0) {\n",
    "        var trs=[];\n",
    "        for(var v=0; v<vertical; v++) {\n",
    "            var tds=[];\n",
    "            for(var h=0; h<horizontal; h++) {\n",
    "                tds.push(\"<td width='20' height='20' class='i_\"+(horizontal-h-1)+\"_\"+(vertical-v-1)+\"'></td>\");\n",
    "            }\n",
    "            trs.push(\"<tr>\"+tds.join('')+\"</tr>\");\n",
    "        }\n",
    "        $(board_id).append(\"<table border=0>\"+trs.join('')+\"</table>\");\n",
    "        $(board_id).click(function(e) {\n",
    "            console.log(\"HELLO \",e);\n",
    "        });\n",
    "    }\n",
    "    //$(board_id).append(\"<b>Hello</b>\");\n",
    "    //var kernel = IPython.notebook.kernel;\n",
    "    //kernel.execute(command);\n",
    "}\n",
    "function display_board(board_id,a) {\n",
    "    var col=['#fff','#00f','#0f0','#f00','#666','#aaa'];\n",
    "    a.forEach(function(ah,h) {\n",
    "        ah.forEach(function(c,v) {\n",
    "            //console.log(board_id+' .i_'+h+'_'+v);\n",
    "            //$(board_id+' .i_'+h+'_'+v).html(c);\n",
    "            $(board_id+' .i_'+h+'_'+v).css(\"background-color\",col[c]);\n",
    "        });\n",
    "    });\n",
    "}\n",
    "</script>\n",
    "\"\"\"\n",
    "\n",
    "javascript = \"\"\"\n",
    "<div id=\"board_10_14\"></div>\n",
    "<script type=\"text/Javascript\">\n",
    "create_board(\"#board_10_14\",10,14);\n",
    "</script>\n",
    "\"\"\"\n",
    "HTML(javascript_base+javascript)\n"
   ]
  },
  {
   "cell_type": "code",
   "execution_count": 74,
   "metadata": {
    "collapsed": false
   },
   "outputs": [],
   "source": [
    "reload(crush)\n",
    "from game import crush\n",
    "board = crush.new_board(10, 14, n_colours=5)\n",
    "HTML(crush.display_via_javascript(\"#board_10_14\", board))"
   ]
  }
 ],
 "metadata": {
  "kernelspec": {
   "display_name": "Python 2",
   "language": "python",
   "name": "python2"
  },
  "language_info": {
   "codemirror_mode": {
    "name": "ipython",
    "version": 2
   },
   "file_extension": ".py",
   "mimetype": "text/x-python",
   "name": "python",
   "nbconvert_exporter": "python",
   "pygments_lexer": "ipython2",
   "version": "2.7.11"
  }
 },
 "nbformat": 4,
 "nbformat_minor": 0
}