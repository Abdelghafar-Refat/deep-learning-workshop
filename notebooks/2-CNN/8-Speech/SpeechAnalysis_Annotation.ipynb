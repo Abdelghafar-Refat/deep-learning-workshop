{
 "cells": [
  {
   "cell_type": "code",
   "execution_count": null,
   "metadata": {},
   "outputs": [],
   "source": [
    "import os\n",
    "import random, string\n",
    "\n",
    "import numpy as np\n",
    "np.set_printoptions(precision=3)\n",
    "\n",
    "import matplotlib.pyplot as plt\n",
    "\n",
    "#import re"
   ]
  },
  {
   "cell_type": "code",
   "execution_count": null,
   "metadata": {},
   "outputs": [],
   "source": [
    "# pip install soundfile\n",
    "import soundfile\n",
    "import librosa\n",
    "import librosa.display\n",
    "\n",
    "from IPython.display import display as notebook_display\n",
    "from IPython.display import Audio as notebook_audio\n",
    "from IPython.display import HTML as notebook_html\n",
    "\n",
    "tmp_audio_playback_dir = './data/tmp-audio-playback/'\n",
    "os.makedirs(tmp_audio_playback_dir, exist_ok=True)"
   ]
  },
  {
   "cell_type": "code",
   "execution_count": null,
   "metadata": {},
   "outputs": [],
   "source": [
    "audio_filenames = [ './librivox/guidetomen_%02d_rowland_64kb.mp3' % (i,) for i in [1,2,3]]\n",
    "audio_filenames\n",
    "\n",
    "#mel_filenames = [ f.replace('.mp3', '.melspectra.hkl') for f in audio_filenames ]"
   ]
  },
  {
   "cell_type": "code",
   "execution_count": null,
   "metadata": {},
   "outputs": [],
   "source": [
    "audio_filename = './librivox/guidetomen_02_rowland_64kb.mp3'\n",
    "\n",
    "audio_samples, _sample_rate = librosa.core.load(audio_filename, sr=None)\n",
    "audio_samples = audio_samples/np.max(audio_samples)\n",
    "\n",
    "#audio_samples, \n",
    "_sample_rate"
   ]
  },
  {
   "cell_type": "code",
   "execution_count": null,
   "metadata": {},
   "outputs": [],
   "source": []
  },
  {
   "cell_type": "code",
   "execution_count": null,
   "metadata": {},
   "outputs": [],
   "source": [
    "def play_audio_samples(np_samples, autoplay=False):\n",
    "    hsh = ''.join(random.choices(string.ascii_uppercase + string.digits, k=8))\n",
    "    f = tmp_audio_playback_dir + '%s.wav' % (hsh,)\n",
    "    #def ts(t_mel, end=False):  # t_mel to samples\n",
    "    #    return int( (t_mel*fft_step + (fft_window if end else 0.))*_sample_rate )\n",
    "    #samples = audio_samples[ts(s['t_start']):ts(s['t_end'], end=True)]\n",
    "    soundfile.write(f, np_samples, samplerate=_sample_rate)\n",
    "\n",
    "    if True or np_samples.shape[0]<100*1000:\n",
    "        plt.figure(figsize=(12,2))\n",
    "        librosa.display.waveplot(np_samples, sr=_sample_rate)\n",
    "        #plt.plot(np_samples)\n",
    "        #plt.plot(np.arange(s['t_start'],s['t_end'],), audio_span)\n",
    "        #plt.xticks( np.arange(s['t_start'], s['t_end'], 20.), rotation=90 )\n",
    "        plt.grid(True)\n",
    "\n",
    "        plt.show()\n",
    "        \n",
    "    notebook_display( \n",
    "        #notebook_html('<code id=\"%s\">Javascript Loaded</code>' % (hsh,)),\n",
    "        notebook_html('<span id=\"%s\"></span>' % (hsh,)),\n",
    "        notebook_audio(f, rate=_sample_rate, autoplay=autoplay)\n",
    "    )\n",
    "    return hsh\n",
    "\n",
    "audio_id=play_audio_samples(audio_samples)\n",
    "audio_id"
   ]
  },
  {
   "cell_type": "code",
   "execution_count": null,
   "metadata": {},
   "outputs": [],
   "source": [
    "# https://www.sitepoint.com/community/t/multiple-clickable-audio-timestamps/273260/9\n",
    "\n",
    "notebook_html(\"\"\"<script type=\"text/Javascript\">\n",
    "function get_next_display_ele(id, selector) {\n",
    "    var pre_div=$(id);\n",
    "    var ctrl = pre_div.parent().parent().next().find(selector);\n",
    "    return $(ctrl)[0];\n",
    "}\n",
    "function get_audio_ele(id) {\n",
    "    return get_next_display_ele(id, 'audio');\n",
    "}\n",
    "function get_textbox_ele(id) {\n",
    "    return get_next_display_ele(id, 'textbox');\n",
    "}\n",
    "function add_to_textbox(selector, txt) {\n",
    "    var tb = $(selector);\n",
    "    var caretPos = tb[0].selectionStart;\n",
    "    var textAreaTxt = tb.val();\n",
    "    tb.val(textAreaTxt.substring(0, caretPos) \n",
    "            + txt + textAreaTxt.substring(caretPos) );\n",
    "    //tb[0].selectionStart = caretPos + txt.length;\n",
    "}\n",
    "function insertAtCaret(areaId, text, combine_lf) {\n",
    "    var txtarea = document.getElementById(areaId);\n",
    "    var scrollPos = txtarea.scrollTop;\n",
    "    var caretPos = txtarea.selectionStart;\n",
    "    \n",
    "    var front = (txtarea.value).substring(0, caretPos);\n",
    "    var back = (txtarea.value).substring(txtarea.selectionEnd, txtarea.value.length);\n",
    "    if(combine_lf) {\n",
    "      var lf='\\\\n';\n",
    "      if(front.substr(-1,1)==lf && text.substr(0,1)==lf) {\n",
    "        text=text.substr(1);\n",
    "      }\n",
    "      if(back.substr(0,1)==lf && text.substr(-1,1)==lf) {\n",
    "        back=back.substr(1);\n",
    "      }\n",
    "    }\n",
    "    txtarea.value = front + text + back;\n",
    "    caretPos = caretPos + text.length;\n",
    "    txtarea.selectionStart = caretPos;\n",
    "    txtarea.selectionEnd = caretPos;\n",
    "    txtarea.focus();\n",
    "    txtarea.scrollTop = scrollPos;\n",
    "}\n",
    "</script>\"\"\")"
   ]
  },
  {
   "cell_type": "code",
   "execution_count": null,
   "metadata": {},
   "outputs": [],
   "source": [
    "txt_filename = audio_filename.replace('.mp3', '.txt')\n",
    "txt_for_audio = ''\n",
    "try:\n",
    "    with open(txt_filename, 'rt') as f:\n",
    "        txt_for_audio=f.read()\n",
    "    print(\"%s loaded\" % txt_filename)\n",
    "except:\n",
    "    print(\"%s : File not found\" % txt_filename)"
   ]
  },
  {
   "cell_type": "code",
   "execution_count": null,
   "metadata": {},
   "outputs": [],
   "source": [
    "notebook_html(\"\"\"\n",
    "<textarea rows=20 cols=70 id={id}>{content}</textarea>\n",
    "\"\"\".format(id=audio_id+'_tb', content=txt_for_audio))"
   ]
  },
  {
   "cell_type": "code",
   "execution_count": null,
   "metadata": {},
   "outputs": [],
   "source": [
    "# https://stackoverflow.com/questions/1064089/\n",
    "#   inserting-a-text-where-cursor-is-using-javascript-jquery\n",
    "\n",
    "notebook_html(\"\"\"<script type=\"text/Javascript\">\n",
    "var selector = '%s';\n",
    "var audio_ele=get_audio_ele('#'+selector) || {};\n",
    "$('#'+selector+'_tb').off('keypress').on('keypress', function(ev) { \n",
    "    //alert(ev); \n",
    "    //add_to_textbox('#'+selector+'_tb', audio_ele.currentTime);\n",
    "    //alert(ev.which);\n",
    "    if( ev.which == 126) { // 126==tilde\n",
    "      var ts = \"\\\\n#TS \"+(audio_ele.currentTime || 0)+\"\\\\n\";\n",
    "      insertAtCaret(selector+'_tb', ts, true);\n",
    "      ev.preventDefault();\n",
    "    }\n",
    "});\n",
    "</script>\"\"\" % (audio_id, ))"
   ]
  },
  {
   "cell_type": "code",
   "execution_count": null,
   "metadata": {},
   "outputs": [],
   "source": [
    "audio_id"
   ]
  },
  {
   "cell_type": "code",
   "execution_count": null,
   "metadata": {},
   "outputs": [],
   "source": []
  }
 ],
 "metadata": {
  "kernelspec": {
   "display_name": "Python 3",
   "language": "python",
   "name": "python3"
  },
  "language_info": {
   "codemirror_mode": {
    "name": "ipython",
    "version": 3
   },
   "file_extension": ".py",
   "mimetype": "text/x-python",
   "name": "python",
   "nbconvert_exporter": "python",
   "pygments_lexer": "ipython3",
   "version": "3.6.4"
  }
 },
 "nbformat": 4,
 "nbformat_minor": 2
}