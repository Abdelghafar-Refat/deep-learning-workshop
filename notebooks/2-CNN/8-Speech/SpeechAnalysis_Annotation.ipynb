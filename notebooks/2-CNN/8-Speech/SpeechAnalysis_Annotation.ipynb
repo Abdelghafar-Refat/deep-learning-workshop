{
 "cells": [
  {
   "cell_type": "code",
   "execution_count": null,
   "metadata": {},
   "outputs": [],
   "source": [
    "import os\n",
    "import random, string\n",
    "\n",
    "import numpy as np\n",
    "np.set_printoptions(precision=3)\n",
    "\n",
    "import matplotlib.pyplot as plt\n",
    "\n",
    "#import re"
   ]
  },
  {
   "cell_type": "code",
   "execution_count": null,
   "metadata": {},
   "outputs": [],
   "source": [
    "# pip install soundfile\n",
    "import soundfile\n",
    "import librosa\n",
    "\n",
    "from IPython.display import Audio as audio_playback_widget\n",
    "\n",
    "os.makedirs('./data/tmp', exist_ok=True)"
   ]
  },
  {
   "cell_type": "code",
   "execution_count": null,
   "metadata": {},
   "outputs": [],
   "source": [
    "audio_filenames = [ './librivox/guidetomen_%02d_rowland_64kb.mp3' % (i,) for i in [1,2,3]]\n",
    "audio_filenames\n",
    "\n",
    "mel_filenames = [ f.replace('.mp3', '.melspectra.hkl') for f in audio_filenames ]\n"
   ]
  },
  {
   "cell_type": "code",
   "execution_count": null,
   "metadata": {},
   "outputs": [],
   "source": []
  },
  {
   "cell_type": "code",
   "execution_count": null,
   "metadata": {},
   "outputs": [],
   "source": [
    "def play_audio_span(s, autoplay=False):\n",
    "    hsh = ''.join(random.choices(string.ascii_uppercase + string.digits, k=8))\n",
    "    f = './data/tmp/%s.wav' % (hsh,)\n",
    "    def ts(t_mel, end=False):  # t_mel to samples\n",
    "        return int( (t_mel*fft_step + (fft_window if end else 0.))*_sample_rate )\n",
    "    audio_span = audio_samples[ts(s['t_start']):ts(s['t_end'], end=True)]\n",
    "    soundfile.write(f, audio_span, samplerate=_sample_rate)\n",
    "    \n",
    "    plt.figure(figsize=(12,2))\n",
    "    plt.plot(audio_span)\n",
    "    #plt.plot(np.arange(s['t_start'],s['t_end'],), audio_span)\n",
    "    #plt.xticks( np.arange(s['t_start'], s['t_end'], 20.), rotation=90 )\n",
    "    plt.grid(True)\n",
    "\n",
    "    plt.show()\n",
    "    \n",
    "    return audio_playback_widget(f, autoplay=autoplay)\n"
   ]
  },
  {
   "cell_type": "code",
   "execution_count": null,
   "metadata": {},
   "outputs": [],
   "source": [
    "#audio_filename_test = audio_filenames[audio_filename_test_idx]\n",
    "#audio_samples, _sample_rate = librosa.core.load(audio_filename_test, sr=None)\n",
    "#audio_samples = audio_samples/np.max(audio_samples)\n",
    "\n"
   ]
  },
  {
   "cell_type": "code",
   "execution_count": null,
   "metadata": {},
   "outputs": [],
   "source": []
  }
 ],
 "metadata": {
  "kernelspec": {
   "display_name": "Python 3",
   "language": "python",
   "name": "python3"
  },
  "language_info": {
   "codemirror_mode": {
    "name": "ipython",
    "version": 3
   },
   "file_extension": ".py",
   "mimetype": "text/x-python",
   "name": "python",
   "nbconvert_exporter": "python",
   "pygments_lexer": "ipython3",
   "version": "3.6.4"
  }
 },
 "nbformat": 4,
 "nbformat_minor": 2
}