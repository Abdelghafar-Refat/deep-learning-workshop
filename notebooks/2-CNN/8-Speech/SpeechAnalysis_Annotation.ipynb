{
 "cells": [
  {
   "cell_type": "code",
   "execution_count": null,
   "metadata": {},
   "outputs": [],
   "source": [
    "import os\n",
    "import random, string\n",
    "\n",
    "import numpy as np\n",
    "np.set_printoptions(precision=3)\n",
    "\n",
    "import matplotlib.pyplot as plt\n",
    "\n",
    "#import re"
   ]
  },
  {
   "cell_type": "code",
   "execution_count": null,
   "metadata": {},
   "outputs": [],
   "source": [
    "# pip install soundfile\n",
    "import soundfile\n",
    "import librosa\n",
    "import librosa.display\n",
    "\n",
    "from IPython.display import display as notebook_display\n",
    "from IPython.display import Audio as notebook_audio\n",
    "from IPython.display import HTML as notebook_html\n",
    "\n",
    "tmp_audio_playback_dir = './data/tmp-audio-playback/'\n",
    "os.makedirs(tmp_audio_playback_dir, exist_ok=True)"
   ]
  },
  {
   "cell_type": "code",
   "execution_count": null,
   "metadata": {},
   "outputs": [],
   "source": [
    "audio_filenames = [ './librivox/guidetomen_%02d_rowland_64kb.mp3' % (i,) for i in [1,2,3]]\n",
    "audio_filenames\n",
    "\n",
    "#mel_filenames = [ f.replace('.mp3', '.melspectra.hkl') for f in audio_filenames ]"
   ]
  },
  {
   "cell_type": "code",
   "execution_count": null,
   "metadata": {},
   "outputs": [],
   "source": [
    "audio_filename = './librivox/guidetomen_02_rowland_64kb.mp3'\n",
    "\n",
    "audio_samples, _sample_rate = librosa.core.load(audio_filename, sr=None)\n",
    "audio_samples = audio_samples/np.max(audio_samples)\n",
    "\n",
    "#audio_samples, \n",
    "_sample_rate"
   ]
  },
  {
   "cell_type": "code",
   "execution_count": null,
   "metadata": {},
   "outputs": [],
   "source": [
    "def play_audio_samples(np_samples, autoplay=False):\n",
    "    hsh = ''.join(random.choices(string.ascii_uppercase + string.digits, k=8))\n",
    "    f = tmp_audio_playback_dir + '%s.wav' % (hsh,)\n",
    "    #def ts(t_mel, end=False):  # t_mel to samples\n",
    "    #    return int( (t_mel*fft_step + (fft_window if end else 0.))*_sample_rate )\n",
    "    #samples = audio_samples[ts(s['t_start']):ts(s['t_end'], end=True)]\n",
    "    soundfile.write(f, np_samples, samplerate=_sample_rate)\n",
    "\n",
    "    if True or np_samples.shape[0]<100*1000:\n",
    "        plt.figure(figsize=(12,2))\n",
    "        librosa.display.waveplot(np_samples, sr=_sample_rate)\n",
    "        #plt.plot(np_samples)\n",
    "        #plt.plot(np.arange(s['t_start'],s['t_end'],), audio_span)\n",
    "        #plt.xticks( np.arange(s['t_start'], s['t_end'], 20.), rotation=90 )\n",
    "        plt.grid(True)\n",
    "\n",
    "        plt.show()\n",
    "        \n",
    "    notebook_display( \n",
    "        #notebook_html('<code id=\"%s\">Javascript Loaded</code>' % (hsh,)),\n",
    "        notebook_html('<span id=\"%s\"></span>' % (hsh,)),\n",
    "        notebook_audio(f, rate=_sample_rate, autoplay=autoplay)\n",
    "    )\n",
    "    return '#'+hsh\n",
    "\n",
    "html_id=play_audio_samples(audio_samples)\n",
    "html_id"
   ]
  },
  {
   "cell_type": "code",
   "execution_count": null,
   "metadata": {},
   "outputs": [],
   "source": [
    "HTML(\"\"\"<script type=\"text/Javascript\">\n",
    "var a='{id}';\n",
    "//alert(a);\n",
    "\n",
    "</script>\"\"\".format(id=html_id))"
   ]
  },
  {
   "cell_type": "code",
   "execution_count": null,
   "metadata": {},
   "outputs": [],
   "source": []
  }
 ],
 "metadata": {
  "kernelspec": {
   "display_name": "Python 3",
   "language": "python",
   "name": "python3"
  },
  "language_info": {
   "codemirror_mode": {
    "name": "ipython",
    "version": 3
   },
   "file_extension": ".py",
   "mimetype": "text/x-python",
   "name": "python",
   "nbconvert_exporter": "python",
   "pygments_lexer": "ipython3",
   "version": "3.6.4"
  }
 },
 "nbformat": 4,
 "nbformat_minor": 2
}