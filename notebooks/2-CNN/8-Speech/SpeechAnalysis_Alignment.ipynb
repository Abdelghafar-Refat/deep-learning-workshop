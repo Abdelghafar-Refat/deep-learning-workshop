{
 "cells": [
  {
   "cell_type": "code",
   "execution_count": null,
   "metadata": {},
   "outputs": [],
   "source": [
    "import numpy as np"
   ]
  },
  {
   "cell_type": "code",
   "execution_count": null,
   "metadata": {},
   "outputs": [],
   "source": [
    "fft_step   = 12.5/1000. # 12.5ms\n",
    "\n",
    "audio_filenames = [ './librivox/guidetomen_%02d_rowland_64kb.mp3' % (i,) for i in [1,2,3]]\n",
    "audio_filenames\n",
    "\n",
    "mel_filenames = [ f.replace('.mp3', '.melspectra.hkl') for f in audio_filenames ]"
   ]
  },
  {
   "cell_type": "code",
   "execution_count": null,
   "metadata": {},
   "outputs": [],
   "source": [
    "mel_filename_test = mel_filenames[1]\n",
    "\n",
    "with open(mel_filename_test.replace('.hkl', '.16_k2.sym'), 'rt') as f:\n",
    "    mel_sym = f.read()"
   ]
  },
  {
   "cell_type": "code",
   "execution_count": null,
   "metadata": {},
   "outputs": [],
   "source": [
    "def print_one_sec_per_line(s, t_min=0., t_max=None):\n",
    "    each_line = int(1/fft_step)\n",
    "    if t_max is None: t_max = len(s)*fft_step\n",
    "    for t in np.arange(t_min, t_max, 1.):\n",
    "        i = int(t/fft_step)\n",
    "        print( s[i:i+each_line] )\n",
    "        \n",
    "print_one_sec_per_line(mel_sym, 10.0, 15.0)"
   ]
  },
  {
   "cell_type": "code",
   "execution_count": null,
   "metadata": {},
   "outputs": [],
   "source": [
    "# Read in text as words\n",
    "\n",
    "# Create initial array of word starts\n",
    "#   with initial guess of maximum error bars\n",
    "# Create map of word -> word_index\n",
    "\n",
    "# Idea : Train up a word embedding based on range (within error bars)\n",
    "# Function to map word to set of ranges\n",
    "# Function to convert ranges into a % of whole\n",
    "# Table of words with % coverage (to check whether that's a doable idea)\n",
    "# Find word-range average vector (vs. not-in-word-range)\n",
    "# Use this to do a DTW across all words vs all timesteps\n",
    "\n",
    "# Idea : Mostly textual alignment\n",
    "# Have a look symbols in appropriate ranges for several word examples\n",
    "# See whether a simple optimisation can align multiple segments\n",
    "# Would reduce error bars massively\n",
    "\n"
   ]
  },
  {
   "cell_type": "code",
   "execution_count": null,
   "metadata": {},
   "outputs": [],
   "source": []
  },
  {
   "cell_type": "code",
   "execution_count": null,
   "metadata": {},
   "outputs": [],
   "source": []
  },
  {
   "cell_type": "code",
   "execution_count": null,
   "metadata": {},
   "outputs": [],
   "source": []
  },
  {
   "cell_type": "code",
   "execution_count": null,
   "metadata": {},
   "outputs": [],
   "source": []
  },
  {
   "cell_type": "code",
   "execution_count": null,
   "metadata": {},
   "outputs": [],
   "source": []
  }
 ],
 "metadata": {
  "kernelspec": {
   "display_name": "Python 3",
   "language": "python",
   "name": "python3"
  },
  "language_info": {
   "codemirror_mode": {
    "name": "ipython",
    "version": 3
   },
   "file_extension": ".py",
   "mimetype": "text/x-python",
   "name": "python",
   "nbconvert_exporter": "python",
   "pygments_lexer": "ipython3",
   "version": "3.6.4"
  }
 },
 "nbformat": 4,
 "nbformat_minor": 2
}