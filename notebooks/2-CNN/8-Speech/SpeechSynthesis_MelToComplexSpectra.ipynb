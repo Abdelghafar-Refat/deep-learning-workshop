{
 "cells": [
  {
   "cell_type": "code",
   "execution_count": null,
   "metadata": {},
   "outputs": [],
   "source": [
    "import tensorflow as tf\n"
   ]
  },
  {
   "cell_type": "markdown",
   "metadata": {},
   "source": [
    "### Consume the TFrecord data\n",
    "\n",
    "*  https://www.tensorflow.org/programmers_guide/datasets\n",
    "*  https://github.com/Tony607/Keras_catVSdog_tf_estimator/blob/master/keras_estimator_vgg16-cat_vs_dog-TFRecord.ipynb"
   ]
  },
  {
   "cell_type": "code",
   "execution_count": null,
   "metadata": {},
   "outputs": [],
   "source": [
    "filenames = [ './librivox/guidetomen_%02d_rowland_64kb.mp3' % (i,) for i in [1,2,3]]\n",
    "filenames"
   ]
  },
  {
   "cell_type": "code",
   "execution_count": null,
   "metadata": {},
   "outputs": [],
   "source": [
    "steps_total, steps_leadin = 1024, 64\n",
    "mel_bins, spectra_bins = 80, 1025\n",
    "\n",
    "#batch_size, num_epochs = 8, 10"
   ]
  },
  {
   "cell_type": "code",
   "execution_count": null,
   "metadata": {},
   "outputs": [],
   "source": [
    "def dataset_from_mp3(filenames, stub='train'):\n",
    "    dataset = tf.data.TFRecordDataset([f.replace('.mp3', '_%s.tfrecords') % stub \n",
    "                                       for f in filenames])\n",
    "\n",
    "    features = {\n",
    "      \"mel\":          tf.FixedLenFeature([mel_bins*steps_total], tf.float32),\n",
    "      \"spectra_real\": tf.FixedLenFeature([spectra_bins*steps_total], tf.float32),\n",
    "      \"spectra_imag\": tf.FixedLenFeature([spectra_bins*steps_total], tf.float32),\n",
    "    }\n",
    "    \n",
    "    def _parse_function(example_proto):\n",
    "        parsed_features = tf.parse_single_example(example_proto, features)\n",
    "        mel     = parsed_features[\"mel\"]\n",
    "        spectra = tf.stack( [parsed_features[\"spectra_real\"], parsed_features[\"spectra_imag\"], ] )\n",
    "        return mel.reshape( (mel_bins, steps_total, 1) ), spectra.reshape( (spectra_bins, steps_total, 2) )\n",
    "\n",
    "    dataset = dataset.map(_parse_function)\n",
    "    return dataset\n",
    "\n",
    "def input_fn_from(filenames, stub='train', batch_size=1, shuffle=False, repeats=1):\n",
    "    dataset = dataset_from_mp3(filenames, stub=stub)\n",
    "    if shuffle:\n",
    "        dataset = dataset.shuffle(buffer_size=100)\n",
    "    dataset = dataset_train.batch(batch_size).repeat(repeats)\n",
    "    \n",
    "    iterator_train = dataset.make_one_shot_iterator()    \n",
    "    \n",
    "    batch_features, batch_labels = iterator.get_next()\n",
    "    return batch_features, batch_labels    "
   ]
  },
  {
   "cell_type": "code",
   "execution_count": null,
   "metadata": {},
   "outputs": [],
   "source": []
  },
  {
   "cell_type": "code",
   "execution_count": null,
   "metadata": {},
   "outputs": [],
   "source": []
  }
 ],
 "metadata": {
  "kernelspec": {
   "display_name": "Python 3",
   "language": "python",
   "name": "python3"
  },
  "language_info": {
   "codemirror_mode": {
    "name": "ipython",
    "version": 3
   },
   "file_extension": ".py",
   "mimetype": "text/x-python",
   "name": "python",
   "nbconvert_exporter": "python",
   "pygments_lexer": "ipython3",
   "version": "3.6.3"
  }
 },
 "nbformat": 4,
 "nbformat_minor": 2
}