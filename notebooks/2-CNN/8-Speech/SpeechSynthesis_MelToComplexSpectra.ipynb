{
 "cells": [
  {
   "cell_type": "code",
   "execution_count": null,
   "metadata": {},
   "outputs": [],
   "source": [
    "import tensorflow as tf"
   ]
  },
  {
   "cell_type": "markdown",
   "metadata": {},
   "source": [
    "### Consume the TFrecord data\n",
    "\n",
    "*  https://www.tensorflow.org/programmers_guide/datasets\n",
    "*  https://github.com/Tony607/Keras_catVSdog_tf_estimator/blob/master/keras_estimator_vgg16-cat_vs_dog-TFRecord.ipynb"
   ]
  },
  {
   "cell_type": "code",
   "execution_count": null,
   "metadata": {},
   "outputs": [],
   "source": [
    "filenames = [ './librivox/guidetomen_%02d_rowland_64kb.mp3' % (i,) for i in [1,2,3]]\n",
    "filenames"
   ]
  },
  {
   "cell_type": "code",
   "execution_count": null,
   "metadata": {},
   "outputs": [],
   "source": [
    "steps_total, steps_leadin = 1024, 64\n",
    "mel_bins, spectra_bins = 80, 1025\n",
    "\n",
    "batch_size, num_epochs = 8, 10"
   ]
  },
  {
   "cell_type": "code",
   "execution_count": null,
   "metadata": {},
   "outputs": [],
   "source": [
    "def dataset_from_mp3(filenames, stub='train'):\n",
    "    dataset = tf.data.TFRecordDataset([f.replace('.mp3', '_%s.tfrecords') % stub \n",
    "                                       for f in filenames])\n",
    "\n",
    "    features = {\n",
    "      \"mel\":          tf.FixedLenFeature([mel_bins*steps_total], tf.float32),\n",
    "      \"spectra_real\": tf.FixedLenFeature([spectra_bins*steps_total], tf.float32),\n",
    "      \"spectra_imag\": tf.FixedLenFeature([spectra_bins*steps_total], tf.float32),\n",
    "    }\n",
    "    \n",
    "    def _parse_function(example_proto):\n",
    "        parsed_features = tf.parse_single_example(example_proto, features)\n",
    "        mel         = parsed_features[\"mel\"].reshape( (mel_bins, steps_total) )\n",
    "        specta_real = parsed_features[\"spectra_real\"].reshape( (spectra_bins, steps_total) )\n",
    "        specta_imag = parsed_features[\"spectra_imag\"].reshape( (spectra_bins, steps_total) )\n",
    "        spectra = tf.stack( [specta_real, specta_imag, ] ) # Should be (spectra_bins, steps_total, 2)\n",
    "        return tf.transpose(mel), tf.transpose(spectra, perm=[1,0,2])\n",
    "\n",
    "    dataset = dataset.map(_parse_function)\n",
    "    return dataset\n",
    "\n",
    "def input_fn_from(filenames, stub='train', batch_size=1, shuffle=False, repeats=1):\n",
    "    dataset = dataset_from_mp3(filenames, stub=stub)\n",
    "    if shuffle:\n",
    "        dataset = dataset.shuffle(buffer_size=100)\n",
    "    dataset = dataset_train.batch(batch_size).repeat(repeats)\n",
    "    \n",
    "    iterator_train = dataset.make_one_shot_iterator()    \n",
    "    \n",
    "    batch_features, batch_labels = iterator.get_next()\n",
    "    return batch_features, batch_labels    "
   ]
  },
  {
   "cell_type": "markdown",
   "metadata": {},
   "source": [
    "### Keras model \n",
    "\n",
    "Keras-WaveNet : \n",
    "\n",
    "\n",
    "*  https://github.com/usernaamee/keras-wavenet/blob/master/simple-generative-model-regressor.py \n",
    "*  Beware of GPL3 license!  Code independently...\n",
    "*  But, also, the number of convolutional channels seems pretty arbitrary, so may not be fleshed-out yet\n",
    "\n",
    "TF-WaveNet :\n",
    "*  https://github.com/ibab/tensorflow-wavenet\n",
    "*  MIT license : Feel free to look + adapt\n"
   ]
  },
  {
   "cell_type": "code",
   "execution_count": null,
   "metadata": {
    "scrolled": true
   },
   "outputs": [],
   "source": [
    "# See : https://github.com/tensorflow/tensorflow/issues/14933\n",
    "#   to understand how broken Google is\n",
    "\n",
    "from tensorflow.python import keras\n",
    "from tensorflow.python.keras import backend as K\n",
    "\n",
    "# Use 'real keras' to get the actual documented functionality for padding='causal'\n",
    "#import keras\n",
    "#from keras import backend as K\n",
    "\n",
    "def wavenet_layer(channels, hidden_channels, kernel_size, dilation_rate, name):\n",
    "    def f(input_):\n",
    "        filter_out = keras.layers.Conv1D(hidden_channels, kernel_size,\n",
    "                                       strides=1, dilation_rate=dilation_rate,\n",
    "                                       padding='valid', use_bias=True, \n",
    "                                       activation='tanh', name='filter_'+name)(input_)\n",
    "        gate_out   = keras.layers.Conv1D(hidden_channels, kernel_size,\n",
    "                                       strides=1, dilation_rate=dilation_rate,\n",
    "                                       padding='valid', use_bias=True, \n",
    "                                       activation='sigmoid', name='gate_'+name)(input_)\n",
    "        mult = keras.layers.Multiply(name='mult_'+name)( [filter_out, gate_out] )\n",
    "        \n",
    "        # Need to pad this result back out to input_ size...\n",
    "        #print(dilation_rate, kernel_size, dilation_rate*(kernel_size-1))\n",
    "        \n",
    "        #def original_shape(input_shape):\n",
    "        #    return (input_shape[0], input_shape[1]+dilation_rate*kernel_size-2, input_shape[2])\n",
    "        # \n",
    "        #mult_padded = keras.layers.Lambda(\n",
    "        #    lambda x: K.temporal_padding(x, padding=(dilation_rate*kernel_size-1,0) ), \n",
    "        #    #output_shape=original_shape,\n",
    "        #    name='mult_padded_'+name)(mult)\n",
    "        \n",
    "        # https://www.tensorflow.org/api_docs/python/tf/keras/layers/ZeroPadding1D\n",
    "        mult_padded = keras.layers.ZeroPadding1D( (dilation_rate*(kernel_size-1), 0) )(mult)\n",
    "\n",
    "        transformed = keras.layers.Conv1D(channels, 1, \n",
    "                                          padding='same', use_bias=True, \n",
    "                                          activation='linear', name='trans_'+name)(mult_padded)\n",
    "        skip_out    = keras.layers.Conv1D(channels, 1, \n",
    "                                          padding='same', use_bias=True, \n",
    "                                          activation='relu', name='skip_'+name)(mult_padded)\n",
    "        \n",
    "        return keras.layers.Add(name='resid_'+name)( [transformed, input_] ), skip_out\n",
    "      \n",
    "    return f\n",
    "\n",
    "log_amplitude_with_minimum = keras.layers.Lambda( lambda x: K.log( K.maximum(0.00001, x) ))\n",
    "\n",
    "io_channels, hidden_channels = 128,128\n",
    "def model_mel_to_spec( input_shape=(steps_total, mel_bins) ):\n",
    "    mel = keras.layers.Input(shape=input_shape, name='MelInput')\n",
    "    #mel = tf.keras.layers.Input(shape=input_shape, name='MelInput')\n",
    "    #mel = tf.keras.layers.Input(batch_size=batch_size, shape=input_shape, name='MelInput')\n",
    "    #mel = keras.layers.Input(batch_size=batch_size, shape=input_shape, name='MelInput')\n",
    "    #mel = keras.layers.Input(shape=input_shape, name='MelInput',\n",
    "    #                        _batch_input_shape = (batch_size, steps_total, mel_bins))\n",
    "    \n",
    "    #mel = keras.layers.Input(batch_shape=(batch_size, steps_total, mel_bins), name='MelInput')\n",
    "    #mel._batch_input_shape = (batch_size, steps_total, mel_bins)\n",
    "    #mel = keras.layers.InputLayer(input_shape=input_shape, name='MelInput')\n",
    "    \n",
    "    #mel_floored = K.maximum(0.00001, mel)\n",
    "    #mel_log     = K.log(mel_floored)  # This is (batch, T. channels)\n",
    "    \n",
    "    mel_log = log_amplitude_with_minimum(mel)\n",
    "\n",
    "    # 'Resize' to make everything 'io_channels' big at the layer interfaces\n",
    "    x = keras.layers.Conv1D(io_channels, 1, \n",
    "                          padding='same', use_bias=True, \n",
    "                          activation='linear', name='mel_log_expanded')(mel_log)\n",
    "    \n",
    "    x,s1 = wavenet_layer(io_channels, hidden_channels*1, 3, 1, '1')(x)\n",
    "    x,s2 = wavenet_layer(io_channels, hidden_channels*1, 3, 2, '2')(x)\n",
    "    x,s3 = wavenet_layer(io_channels, hidden_channels*1, 3, 4, '3')(x)\n",
    "    x,s4 = wavenet_layer(io_channels, hidden_channels*1, 3, 8, '4')(x)\n",
    "    _,s5 = wavenet_layer(io_channels, hidden_channels*1, 3,16, '5')(x)  # Total footprint is ~64 0.75secs\n",
    "    # x is now irrelevant\n",
    "    \n",
    "    skip_overall = keras.layers.Concatenate( axis=-1 )( [s1,s2,s3,s4,s5] )\n",
    "    \n",
    "    log_amp = keras.layers.Conv1D(spectra_bins, 1, padding='same', \n",
    "                                  activation='linear', name='log_amp')(skip_overall)\n",
    "    phase   = keras.layers.Conv1D(spectra_bins, 1, padding='same', \n",
    "                                  activation='linear', name='phase')(skip_overall)\n",
    "    \n",
    "    #amp = K.exp(log_amp)\n",
    "    amp = keras.layers.Lambda( lambda x: K.exp(x), name='amp')(log_amp)\n",
    "    \n",
    "    return keras.models.Model(inputs=[mel], outputs=[amp, phase])\n",
    "\n",
    "    #spec_real = keras.layers.Multiply()( [amp, K.cos(phase)] )\n",
    "    #spec_imag = keras.layers.Multiply()( [amp, K.sin(phase)] )\n",
    "    \n",
    "    #spec = keras.layers.Stack( [spec_real, spec_imag] )\n",
    "    \n",
    "    #return keras.models.Model(inputs=mel, outputs=[spec_real, spec_imag])\n",
    "\n",
    "keras_model = model_mel_to_spec()\n",
    "keras_model.summary()"
   ]
  },
  {
   "cell_type": "code",
   "execution_count": null,
   "metadata": {},
   "outputs": [],
   "source": [
    "input_name = keras_model.input_names[0]\n",
    "input_name"
   ]
  },
  {
   "cell_type": "code",
   "execution_count": null,
   "metadata": {},
   "outputs": [],
   "source": [
    "def TODO_customLoss(spec_gold, spec_out):\n",
    "    # Convert the stacked spectra components in spec_gold to amp and phase too\n",
    "    gold_real = keras.layers.Lambda(lambda x : x[:,:,:,0])(spec_gold)\n",
    "    gold_imag = keras.layers.Lambda(lambda x : x[:,:,:,1])(spec_gold)\n",
    "    \n",
    "    gold_amp = log_amplitude_with_minimum(gold_real**2 + gold_imag**2)\n",
    "    \n",
    "    # Hmmmm\n",
    "    \n",
    "    return K.sum(K.log(yTrue) - K.log(yPred))\n",
    "\n",
    "keras_model.compile(loss='mse', \n",
    "                    optimizer=keras.optimizers.RMSprop(lr=2e-5),\n",
    "                    metrics=['mse'])"
   ]
  },
  {
   "cell_type": "code",
   "execution_count": null,
   "metadata": {},
   "outputs": [],
   "source": [
    "import os\n",
    "model_dir = os.path.join(os.getcwd(), 'models', 'mel-to-complex-spectra')\n",
    "os.makedirs(model_dir, exist_ok=True)\n",
    "print(\"model_dir: \",model_dir)\n",
    "\n",
    "estimator = tf.keras.estimator.model_to_estimator(keras_model=keras_model, model_dir=model_dir)"
   ]
  },
  {
   "cell_type": "code",
   "execution_count": null,
   "metadata": {},
   "outputs": [],
   "source": []
  },
  {
   "cell_type": "code",
   "execution_count": null,
   "metadata": {},
   "outputs": [],
   "source": []
  }
 ],
 "metadata": {
  "kernelspec": {
   "display_name": "Python 3",
   "language": "python",
   "name": "python3"
  },
  "language_info": {
   "codemirror_mode": {
    "name": "ipython",
    "version": 3
   },
   "file_extension": ".py",
   "mimetype": "text/x-python",
   "name": "python",
   "nbconvert_exporter": "python",
   "pygments_lexer": "ipython3",
   "version": "3.6.3"
  }
 },
 "nbformat": 4,
 "nbformat_minor": 2
}