{
 "cells": [
  {
   "cell_type": "code",
   "execution_count": null,
   "metadata": {},
   "outputs": [],
   "source": [
    "import tensorflow as tf\n"
   ]
  },
  {
   "cell_type": "markdown",
   "metadata": {},
   "source": [
    "### Consume the TFrecord data\n",
    "https://www.tensorflow.org/programmers_guide/datasets"
   ]
  },
  {
   "cell_type": "code",
   "execution_count": null,
   "metadata": {},
   "outputs": [],
   "source": [
    "filenames = [ './librivox/guidetomen_%02d_rowland_64kb.mp3' % (i,) for i in [1,2,3]]\n",
    "filenames"
   ]
  },
  {
   "cell_type": "code",
   "execution_count": null,
   "metadata": {},
   "outputs": [],
   "source": [
    "steps_total, steps_leadin = 1024, 64\n",
    "mel_bins, spectra_bins = 80, 1025"
   ]
  },
  {
   "cell_type": "code",
   "execution_count": null,
   "metadata": {},
   "outputs": [],
   "source": [
    "def dataset_from_mp3(filenames, stub):\n",
    "    dataset = tf.data.TFRecordDataset([f.replace('.mp3', '_%s.tfrecords') % stub \n",
    "                                       for f in filenames])\n",
    "\n",
    "    features = {\n",
    "      \"mel\":          tf.FixedLenFeature([mel_bins*steps_total], tf.float32),\n",
    "      \"spectra_real\": tf.FixedLenFeature([spectra_bins*steps_total], tf.int32),\n",
    "      \"spectra_imag\": tf.FixedLenFeature([spectra_bins*steps_total], tf.int32),\n",
    "    }\n",
    "    \n",
    "    def _parse_function(example_proto):\n",
    "        parsed_features = tf.parse_single_example(example_proto, features)\n",
    "        spectra = tf.stack( [parsed_features[\"spectra_real\"], parsed_features[\"spectra_imag\"], ] )\n",
    "        return parsed_features[\"mel\"], spectra\n",
    "\n",
    "    dataset = dataset.map(_parse_function)\n",
    "\n",
    "    return dataset"
   ]
  },
  {
   "cell_type": "code",
   "execution_count": null,
   "metadata": {},
   "outputs": [],
   "source": []
  }
 ],
 "metadata": {
  "kernelspec": {
   "display_name": "Python 3",
   "language": "python",
   "name": "python3"
  },
  "language_info": {
   "codemirror_mode": {
    "name": "ipython",
    "version": 3
   },
   "file_extension": ".py",
   "mimetype": "text/x-python",
   "name": "python",
   "nbconvert_exporter": "python",
   "pygments_lexer": "ipython3",
   "version": "3.6.3"
  }
 },
 "nbformat": 4,
 "nbformat_minor": 2
}