{
 "cells": [
  {
   "cell_type": "markdown",
   "metadata": {},
   "source": [
    "### Load some audio"
   ]
  },
  {
   "cell_type": "code",
   "execution_count": null,
   "metadata": {
    "collapsed": true
   },
   "outputs": [],
   "source": [
    "import numpy as np\n",
    "\n",
    "import scipy.io.wavfile\n",
    "import matplotlib.pyplot as plt\n",
    "\n",
    "#import sys"
   ]
  },
  {
   "cell_type": "code",
   "execution_count": null,
   "metadata": {
    "collapsed": false
   },
   "outputs": [],
   "source": [
    "def spectrogram(wav_filepath):\n",
    "    # https://mail.python.org/pipermail/chicago/2010-December/007314.html\n",
    "    sample_rate, samples = scipy.io.wavfile.read(wav_filepath)\n",
    "\n",
    "    # Rescale so that max/min are ~ +/- 1 around 0\n",
    "    data_av = np.mean(samples)\n",
    "    data_max = np.max(np.absolute(samples-data_av))\n",
    "    sound_data = (samples - data_av)/data_max\n",
    "    \n",
    "    ## Parameters: 10ms step, 30ms window\n",
    "    nstep = int(sample_rate * 0.01)\n",
    "    nwin  = int(sample_rate * 0.03)\n",
    "    nfft = 2*int(nwin/2)\n",
    "\n",
    "    window = np.hamming(nwin)\n",
    "\n",
    "    # will take windows x[n1:n2].  generate and loop over \n",
    "    # n2 such that all frames fit within the waveform\n",
    "    nn = range(nwin, len(sound_data), nstep)\n",
    "\n",
    "    X = np.zeros( (len(nn), nfft//2) )\n",
    "\n",
    "    for i,n in enumerate(nn):\n",
    "        segment = sound_data[ n-nwin:n ]\n",
    "        z = np.fft.fft(window * segment, nfft)\n",
    "        X[i,:] = np.log(np.absolute(z[:nfft//2]))\n",
    "        \n",
    "    return X"
   ]
  },
  {
   "cell_type": "code",
   "execution_count": null,
   "metadata": {
    "collapsed": false
   },
   "outputs": [],
   "source": [
    "f = './data/num_audio 23.42.17 13.03.17x.wav'\n",
    "\n",
    "X = spectrogram(f)\n",
    "print(\"X.shape=\", X.shape)\n",
    "\n",
    "Y = np.std(X, axis=1)\n",
    "Y_min = np.min(Y)\n",
    "Y_range = Y.max()-Y_min\n",
    "Y = (Y - Y_min)/Y_range\n",
    "\n",
    "print(\"Y.shape=\", Y.shape)\n",
    "\n",
    "Y_crop = np.where(Y>0.25, 1.0, 0.0)\n",
    "# Apply some smoothing\n",
    "\n",
    "def smooth(x, window_len=21):  # , window='hanning'\n",
    "    # http://scipy-cookbook.readthedocs.io/items/SignalSmooth.html\n",
    "    #s = np.r_[ x[window_len-1:0:-1], x, x[-1:-window_len:-1]]\n",
    "    s = np.r_[ np.zeros( ((window_len-1)//2,) ), x, np.zeros( ((window_len-1)//2,) ) ]\n",
    "    \n",
    "    #print(len(s))\n",
    "    #if window == 'flat': #moving average\n",
    "    #    w=numpy.ones(window_len,'d')\n",
    "    #else:\n",
    "    #w=eval('np.'+window+'(window_len)')\n",
    "    w=np.hamming(window_len)\n",
    "    return np.convolve(w/w.sum(), s, mode='valid') #[window_len-1 : -(window_len-1) ]\n",
    "\n",
    "Y_crop = smooth(Y_crop)\n",
    "Y_crop = np.where(Y_crop>0.01, 1.0, 0.0)\n",
    "print(\"Y_crop.shape=\", Y_crop.shape)\n",
    "\n",
    "plt.imshow(X.T, interpolation='nearest',\n",
    "    origin='lower',\n",
    "    aspect='auto')\n",
    "\n",
    "#plt.plot(Y * X.shape[1])\n",
    "\n",
    "plt.plot(Y_crop * X.shape[1])\n",
    "\n",
    "plt.show()\n",
    "#Y.min(), Y.max()\n",
    "#X[100,:]\n",
    "np.argmin(X)/248, np.argmax(X)/248"
   ]
  },
  {
   "cell_type": "code",
   "execution_count": null,
   "metadata": {
    "collapsed": false
   },
   "outputs": [],
   "source": [
    "# Split the file into voiced segments\n",
    "\n",
    "#X.max()\n",
    "\n",
    "# Clip off front and back where Y_crop is zero\n",
    "#http://stackoverflow.com/questions/4494404/find-large-number-of-consecutive-values-fulfilling-condition-in-a-numpy-array\n",
    "def contiguous_regions(condition):\n",
    "    idx = []\n",
    "    i = 0\n",
    "    while i < len(condition):\n",
    "        x1 = i + condition[i:].argmax()\n",
    "        try:\n",
    "            x2 = x1 + condition[x1:].argmin()\n",
    "        except:\n",
    "            x2 = x1 + 1\n",
    "        if x1 == x2:\n",
    "            if condition[x1] == True:\n",
    "                x2 = len(condition)\n",
    "            else:\n",
    "                break\n",
    "        idx.append( [x1,x2] )\n",
    "        i = x2\n",
    "    return idx\n",
    "\n",
    "contiguous_regions(Y_crop>0.5)"
   ]
  },
  {
   "cell_type": "code",
   "execution_count": null,
   "metadata": {
    "collapsed": false
   },
   "outputs": [],
   "source": [
    "X[:,1]"
   ]
  },
  {
   "cell_type": "code",
   "execution_count": null,
   "metadata": {
    "collapsed": false
   },
   "outputs": [],
   "source": [
    "import re\n",
    "remove_punc = re.compile('[\\,\\.\\?\\!]')\n",
    "squash_spaces = re.compile('\\s+')\n",
    "def words(s):\n",
    "    s = remove_punc.sub(' ', s)\n",
    "    s = squash_spaces.sub(' ', s)\n",
    "    return s.strip().lower()\n",
    "\n",
    "sentences=dict(\n",
    "    num=words(\"zero one two three four five six seven eight nine ten.\"),\n",
    "    \n",
    "# https://www.quora.com/Is-there-a-text-that-covers-the-entire-English-phonetic-range/answer/Sheetal-Srivastava-1\n",
    "    qbf=words(\"That quick beige fox jumped in the air over each thin dog.  \"+\n",
    "              \"Look out, I shout, for he's foiled you again, creating chaos.\"),\n",
    "    shy=words(\"Are those shy Eurasian footwear, cowboy chaps, \"+\n",
    "              \"or jolly earthmoving headgear?\"),\n",
    "    ate=words(\"The hungry purple dinosaur ate the kind, zingy fox, the jabbering crab, \"+\n",
    "              \"and the mad whale and started vending and quacking.\"),\n",
    "    suz=words(\"With tenure, Suzie'd have all the more leisure for yachting, \"+\n",
    "              \"but her publications are no good.\"),\n",
    "    tbh=words(\"Shaw, those twelve beige hooks are joined if I patch a young, gooey mouth.\"),\n",
    "\n",
    "              \n",
    ")\n",
    "sentences['num'].replace(' ', ',')"
   ]
  },
  {
   "cell_type": "code",
   "execution_count": null,
   "metadata": {
    "collapsed": true
   },
   "outputs": [],
   "source": []
  },
  {
   "cell_type": "code",
   "execution_count": null,
   "metadata": {
    "collapsed": true
   },
   "outputs": [],
   "source": []
  }
 ],
 "metadata": {
  "kernelspec": {
   "display_name": "Python 3",
   "language": "python",
   "name": "python3"
  },
  "language_info": {
   "codemirror_mode": {
    "name": "ipython",
    "version": 3
   },
   "file_extension": ".py",
   "mimetype": "text/x-python",
   "name": "python",
   "nbconvert_exporter": "python",
   "pygments_lexer": "ipython3",
   "version": "3.5.2"
  }
 },
 "nbformat": 4,
 "nbformat_minor": 2
}