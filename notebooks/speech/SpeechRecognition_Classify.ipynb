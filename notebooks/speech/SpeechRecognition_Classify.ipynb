{
 "cells": [
  {
   "cell_type": "code",
   "execution_count": null,
   "metadata": {
    "collapsed": true,
    "deletable": true,
    "editable": true
   },
   "outputs": [],
   "source": [
    "\"\"\"Convolutional Neural Network Estimator, built with tf.layers (originally for MNIST).\"\"\"\n",
    "\n",
    "#  FROM : https://www.tensorflow.org/tutorials/layers#building_the_cnn_mnist_classifier\n",
    "#  CODE : https://www.tensorflow.org/code/tensorflow/examples/tutorials/layers/cnn_mnist.py\n",
    "\n",
    "import os\n",
    "\n",
    "import numpy as np\n",
    "import matplotlib.pyplot as plt\n",
    "%matplotlib inline\n",
    "\n",
    "import pickle\n",
    "\n",
    "import tensorflow as tf\n",
    "\n",
    "from tensorflow.contrib import learn\n",
    "from tensorflow.contrib.learn.python.learn.estimators import model_fn as model_fn_lib\n",
    "\n",
    "tf.logging.set_verbosity(tf.logging.INFO)  # Quite a lot...\n",
    "#tf.logging.set_verbosity(tf.logging.WARN)   # This prevents Logging ...\n",
    "\n",
    "do_training = True"
   ]
  },
  {
   "cell_type": "code",
   "execution_count": null,
   "metadata": {
    "collapsed": false
   },
   "outputs": [],
   "source": [
    "import sys\n",
    "print(sys.version)\n",
    "print('Tensorflow:',tf.__version__)"
   ]
  },
  {
   "cell_type": "markdown",
   "metadata": {},
   "source": [
    "Expecting:\n",
    "```\n",
    "Tensorflow: 1.0.0\n",
    "3.5.2 (default, Sep 14 2016, 11:28:32) \n",
    "[GCC 6.2.1 20160901 (Red Hat 6.2.1-1)]\n",
    "```"
   ]
  },
  {
   "cell_type": "code",
   "execution_count": null,
   "metadata": {
    "collapsed": true,
    "deletable": true,
    "editable": true
   },
   "outputs": [],
   "source": [
    "def cnn_model_fn(features, integer_labels, mode):\n",
    "  \"\"\"Model function for CNN.\"\"\"\n",
    "\n",
    "  features_images=features['images']\n",
    "\n",
    "  input_layer = tf.reshape(features_images, [-1, 64, 32], name='input_layer')\n",
    "\n",
    "  # Convolutional Layer #1 (5x5 kernels)\n",
    "  conv1 = tf.layers.conv2d( inputs=input_layer,\n",
    "      filters=16, kernel_size=[5, 5], padding=\"same\",\n",
    "      activation=tf.nn.relu)\n",
    "\n",
    "  # First max pooling layer with a 2x2 filter and stride of 2\n",
    "  pool1 = tf.layers.max_pooling2d(inputs=conv1, pool_size=[2, 2], strides=2)\n",
    "\n",
    "  # Convolutional Layer #2 (5x5 kernels)\n",
    "  conv2 = tf.layers.conv2d( inputs=pool1,\n",
    "      filters=16, kernel_size=[5, 5], padding=\"same\",\n",
    "      activation=tf.nn.relu)\n",
    "\n",
    "  # Pooling Layer #2 (2x2 filter and stride of 2)\n",
    "  pool2 = tf.layers.max_pooling2d(inputs=conv2, pool_size=[2, 2], strides=2)\n",
    "\n",
    "  # Flatten tensor into a batch of vectors\n",
    "  pool2_flat = tf.contrib.layers.flatten(pool2)\n",
    "\n",
    "  # Dense Layer\n",
    "  dense = tf.layers.dense(inputs=pool2_flat, units=16, activation=tf.nn.relu)\n",
    "\n",
    "  # Add dropout operation; 0.6 probability that element will be kept\n",
    "  #dropout = tf.layers.dropout(\n",
    "  #    inputs=dense, rate=0.4, training= (mode == learn.ModeKeys.TRAIN) )\n",
    "\n",
    "  # Logits layer\n",
    "  # Input Tensor Shape: [batch_size, 1024]\n",
    "  # Output Tensor Shape: [batch_size, 10]\n",
    "  #logits = tf.layers.dense(inputs=dropout, units=10)\n",
    "\n",
    "  logits = tf.layers.dense(inputs=dense, units=10)\n",
    "  #logits = tf.Print(logits, [input_layer.get_shape(), integer_labels.get_shape()], \"Debug size information : \", first_n=1)\n",
    "\n",
    "  loss = None\n",
    "  train_op = None\n",
    "\n",
    "  # Calculate Loss (for both TRAIN and EVAL modes)\n",
    "  if mode != learn.ModeKeys.INFER:\n",
    "    onehot_labels = tf.one_hot(indices=tf.cast(integer_labels, tf.int32), depth=10)\n",
    "    loss = tf.losses.softmax_cross_entropy(logits=logits, onehot_labels=onehot_labels)\n",
    "\n",
    "  # Configure the Training Op (for TRAIN mode)\n",
    "  if mode == learn.ModeKeys.TRAIN:\n",
    "    train_op = tf.contrib.layers.optimize_loss(\n",
    "      loss=loss,\n",
    "      global_step=tf.contrib.framework.get_global_step(),\n",
    "      learning_rate=0.01,\n",
    "      optimizer=\"Adam\")\n",
    "\n",
    "  # Generate Predictions\n",
    "  predictions = {\n",
    "    \"classes\":       tf.argmax(input=logits, axis=1),\n",
    "    \"probabilities\": tf.nn.softmax(logits, name=\"softmax_tensor\"), \n",
    "    \"logits\":        logits,\n",
    "  }\n",
    "    \n",
    "  # Return a ModelFnOps object\n",
    "  return model_fn_lib.ModelFnOps(\n",
    "      mode=mode, predictions=predictions, loss=loss, train_op=train_op)"
   ]
  },
  {
   "cell_type": "code",
   "execution_count": null,
   "metadata": {
    "collapsed": true
   },
   "outputs": [],
   "source": [
    "prefix='num'"
   ]
  },
  {
   "cell_type": "code",
   "execution_count": null,
   "metadata": {
    "collapsed": false,
    "deletable": true,
    "editable": true
   },
   "outputs": [],
   "source": [
    "# Create the Estimator : https://www.tensorflow.org/extend/estimators\n",
    "cnn_classifier = learn.Estimator(\n",
    "      model_fn=cnn_model_fn, model_dir=\"cnn_model/\"+prefix)  # This is relative to the ipynb\n",
    "\n",
    "# Check : the checkpoints file in 'cnn_model/num' has filenames that are in same directory"
   ]
  },
  {
   "cell_type": "code",
   "execution_count": null,
   "metadata": {
    "collapsed": false
   },
   "outputs": [],
   "source": []
  },
  {
   "cell_type": "code",
   "execution_count": null,
   "metadata": {
    "collapsed": false
   },
   "outputs": [],
   "source": [
    "# Load training and eval data\n",
    "# Read in the dataset\n",
    "dataset = pickle.load(open(os.path.join('data', prefix+'.pkl'), 'rb'))\n",
    "\n",
    "train_indices = [ i for i,r in enumerate(dataset['rand']) if r<=0.8 ]\n",
    "test_indices  = [ i for i,r in enumerate(dataset['rand']) if r>0.8 ]\n",
    "\n",
    "#train_data   = mnist.train.images  # Returns np.array\n",
    "#train_labels = np.asarray(mnist.train.labels, dtype=np.int32)\n",
    "\n",
    "#eval_data    = mnist.test.images  # Returns np.array\n",
    "#eval_labels  = np.asarray(mnist.test.labels, dtype=np.int32)\n",
    "\n",
    "#print(eval_labels[7])\n",
    "print(\"Data Loaded\")"
   ]
  },
  {
   "cell_type": "code",
   "execution_count": null,
   "metadata": {
    "collapsed": false,
    "deletable": true,
    "editable": true
   },
   "outputs": [],
   "source": [
    "def batch_input_fn(dataset, indices, batch_size=100, seed=None, num_epochs=1):  \n",
    "    # If seed is defined, this will shuffle data into batches\n",
    "\n",
    "    # Get the data into tensorflow\n",
    "    stamps = np.array( dataset['stamp'] )[indices]\n",
    "    print(\"stamps.shape:\", stamps.shape)\n",
    "    labels = np.array( dataset['label'] )[indices]\n",
    "    print(\"labels.shape:\", labels.shape)\n",
    "\n",
    "    all_images = tf.constant( stamps, shape=stamps.shape, verify_shape=True )\n",
    "    all_labels = tf.constant( labels, shape=labels.shape, verify_shape=True )\n",
    "    \n",
    "    print(\"batch_input_fn sizing : \", all_images.shape, )\n",
    "    \n",
    "    # And create a 'feeder' to batch up the data appropriately...\n",
    "    image, label = tf.train.slice_input_producer( [ all_images, all_labels ], \n",
    "                                           num_epochs=num_epochs,\n",
    "                                           shuffle=(seed is not None), seed=seed,\n",
    "                                         )\n",
    "    \n",
    "    dataset_dict = dict( images=image, labels=label ) # This becomes pluralized into batches by .batch()\n",
    "    \n",
    "    batch_dict = tf.train.batch( dataset_dict, batch_size,\n",
    "                                num_threads=1, capacity=batch_size*2, \n",
    "                                enqueue_many=False, shapes=None, dynamic_pad=False, \n",
    "                                allow_smaller_final_batch=False, \n",
    "                                shared_name=None, name=None)\n",
    "\n",
    "    batch_labels = batch_dict.pop('labels')\n",
    "    \n",
    "    # Return : \n",
    "    # 1) a mapping of feature columns to Tensors with the corresponding feature data, and \n",
    "    # 2) the corresponding labels\n",
    "    return batch_dict, batch_labels\n",
    "\n",
    "batch_size, epochs = 100, 20\n"
   ]
  },
  {
   "cell_type": "code",
   "execution_count": null,
   "metadata": {
    "collapsed": false,
    "deletable": true,
    "editable": true,
    "scrolled": true
   },
   "outputs": [],
   "source": [
    "if do_training:\n",
    "    # Set up logging for predictions\n",
    "    # Log the values in the \"Softmax\" tensor with label \"probabilities\"\n",
    "    tensors_to_log = {\"probabilities\": \"softmax_tensor\"}\n",
    "    logging_hook = tf.train.LoggingTensorHook( tensors=tensors_to_log, every_n_secs=20 ) #every_n_iter=1000 )\n",
    "\n",
    "    # Train the model\n",
    "    epochs=5\n",
    "\n",
    "    if False:\n",
    "        cnn_classifier.fit(\n",
    "          x=train_data,\n",
    "          y=train_labels,\n",
    "          batch_size=batch_size,\n",
    "          steps=train_labels.shape[0]/batch_size * epochs,\n",
    "          monitors=[logging_hook]\n",
    "        )\n",
    "\n",
    "    cnn_classifier.fit(\n",
    "        input_fn=lambda: batch_input_fn(dataset, train_indices, batch_size=batch_size, seed=42, num_epochs=epochs), \n",
    "        #steps=train_labels.shape[0] / batch_size * epochs,\n",
    "        #monitors=[logging_hook],\n",
    "    )"
   ]
  },
  {
   "cell_type": "code",
   "execution_count": null,
   "metadata": {
    "collapsed": false,
    "deletable": true,
    "editable": true
   },
   "outputs": [],
   "source": []
  },
  {
   "cell_type": "code",
   "execution_count": null,
   "metadata": {
    "collapsed": false,
    "deletable": true,
    "editable": true,
    "scrolled": true
   },
   "outputs": [],
   "source": [
    "# Configure the accuracy metric for evaluation\n",
    "cnn_metrics = {\n",
    "  \"accuracy\":\n",
    "      learn.MetricSpec(\n",
    "          metric_fn=tf.metrics.accuracy, prediction_key=\"classes\"),\n",
    "}\n",
    "\n",
    "# Evaluate the model and print results\n",
    "#cnn_eval_results = mnist_classifier.evaluate( x=eval_data, y=eval_labels, metrics=cnn_metrics)\n",
    "\n",
    "cnn_eval_results = mnist_classifier.evaluate(\n",
    "    input_fn=lambda: cnn_classifier(dataset, test_indices, batch_size=batch_size), \n",
    "    metrics=cnn_metrics,\n",
    ")\n",
    "\n",
    "print(cnn_eval_results)"
   ]
  },
  {
   "cell_type": "markdown",
   "metadata": {},
   "source": [
    "Ok, so the built Estimator gets ~99% accuracy on the test set in <20 secs on CPU."
   ]
  },
  {
   "cell_type": "code",
   "execution_count": null,
   "metadata": {
    "collapsed": false
   },
   "outputs": [],
   "source": [
    "?tf.reduce_sum()"
   ]
  },
  {
   "cell_type": "markdown",
   "metadata": {
    "collapsed": true
   },
   "source": [
    "### Now try on some unseen images"
   ]
  },
  {
   "cell_type": "code",
   "execution_count": null,
   "metadata": {
    "collapsed": true
   },
   "outputs": [],
   "source": []
  }
 ],
 "metadata": {
  "kernelspec": {
   "display_name": "Python 3",
   "language": "python",
   "name": "python3"
  },
  "language_info": {
   "codemirror_mode": {
    "name": "ipython",
    "version": 3
   },
   "file_extension": ".py",
   "mimetype": "text/x-python",
   "name": "python",
   "nbconvert_exporter": "python",
   "pygments_lexer": "ipython3",
   "version": "3.5.2"
  }
 },
 "nbformat": 4,
 "nbformat_minor": 2
}