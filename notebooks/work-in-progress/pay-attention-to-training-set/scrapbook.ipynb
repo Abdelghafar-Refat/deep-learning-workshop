{
 "cells": [
  {
   "cell_type": "code",
   "execution_count": null,
   "metadata": {},
   "outputs": [],
   "source": [
    "# Check how many layers are frozen in :\n",
    "#  https://github.com/ShehabMMohamed/TinyImageNet-KaggleCompetition\n",
    "\n",
    "from keras.applications import Xception\n",
    "from keras.layers import Input, Dense"
   ]
  },
  {
   "cell_type": "code",
   "execution_count": null,
   "metadata": {},
   "outputs": [],
   "source": [
    "img_height = 299\n",
    "img_width = 299\n",
    "\n",
    "input_tensor = Input(shape=(img_width, img_height, 3))\n",
    "\n",
    "pre_trained_model = Xception(weights='imagenet', input_tensor=input_tensor, include_top=False, pooling='avg')\n",
    "# Downloads 83.7Mb of model..., "
   ]
  },
  {
   "cell_type": "code",
   "execution_count": null,
   "metadata": {},
   "outputs": [],
   "source": [
    "pre_trained_model.layers[20].name\n",
    "# 'block3_sepconv2' ( next are 'block3_sepconv2_bn' and 'conv2d_2' )"
   ]
  },
  {
   "cell_type": "code",
   "execution_count": null,
   "metadata": {},
   "outputs": [],
   "source": [
    "pre_trained_model.summary()\n",
    "#Total params: 20,861,480\n",
    "#Trainable params: 20,806,952\n",
    "#Non-trainable params: 54,528\n",
    "# Input ... block3_sepconv2 ... block14_sepconv2 ... global_average_pooling2d_1"
   ]
  },
  {
   "cell_type": "code",
   "execution_count": null,
   "metadata": {},
   "outputs": [],
   "source": [
    "### That's a lot of fine tuning..."
   ]
  },
  {
   "cell_type": "code",
   "execution_count": null,
   "metadata": {},
   "outputs": [],
   "source": []
  }
 ],
 "metadata": {
  "kernelspec": {
   "display_name": "Python 3",
   "language": "python",
   "name": "python3"
  },
  "language_info": {
   "codemirror_mode": {
    "name": "ipython",
    "version": 3
   },
   "file_extension": ".py",
   "mimetype": "text/x-python",
   "name": "python",
   "nbconvert_exporter": "python",
   "pygments_lexer": "ipython3",
   "version": "3.6.5"
  }
 },
 "nbformat": 4,
 "nbformat_minor": 2
}