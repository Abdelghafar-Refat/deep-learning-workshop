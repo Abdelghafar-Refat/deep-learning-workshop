{
 "cells": [
  {
   "cell_type": "code",
   "execution_count": null,
   "metadata": {},
   "outputs": [],
   "source": [
    "import os\n",
    "if not os.path.isfile('api/visual_genome_python_driver/README.md'):\n",
    "    ! mkdir -p api; cd api; git clone https://github.com/ranjaykrishna/visual_genome_python_driver.git\n",
    "!ls -l api/visual_genome_python_driver/\n",
    "#!ls -l api/visual_genome_python_driver/visual_genome"
   ]
  },
  {
   "cell_type": "code",
   "execution_count": null,
   "metadata": {},
   "outputs": [],
   "source": [
    "import sys\n",
    "sys.path.append('./api/visual_genome_python_driver')"
   ]
  },
  {
   "cell_type": "code",
   "execution_count": null,
   "metadata": {},
   "outputs": [],
   "source": [
    "#from src import api as vg\n",
    "from visual_genome import api as vg\n",
    "#import api as vg"
   ]
  },
  {
   "cell_type": "code",
   "execution_count": null,
   "metadata": {},
   "outputs": [],
   "source": [
    "import matplotlib.pyplot as plt\n",
    "from matplotlib.patches import Rectangle\n",
    "from PIL import Image as PIL_Image\n",
    "import requests\n",
    "\n",
    "# https://stackoverflow.com/questions/11914472/stringio-in-python3\n",
    "try:\n",
    "    from StringIO import StringIO as ReadBytes\n",
    "except ImportError:\n",
    "    print(\"Using BytesIO, since we're in Python3\")\n",
    "    #from io import StringIO #..\n",
    "    from io import BytesIO as ReadBytes"
   ]
  },
  {
   "cell_type": "code",
   "execution_count": null,
   "metadata": {},
   "outputs": [],
   "source": [
    "image_id = 2415075 # This is the first image of training set\n",
    "image_id = 498263  # This has phrase 'toiletin a bathroom'"
   ]
  },
  {
   "cell_type": "code",
   "execution_count": null,
   "metadata": {},
   "outputs": [],
   "source": [
    "#image = vg.GetImageData(id=image_id)\n",
    "image = vg.get_image_data(id=image_id)\n",
    "print(\"The url of the image is: %s\" % image.url)"
   ]
  },
  {
   "cell_type": "code",
   "execution_count": null,
   "metadata": {},
   "outputs": [],
   "source": [
    "#regions = vg.GetRegionDescriptionsOfImage(id=image_id)\n",
    "regions = vg.get_region_descriptions_of_image(id=image_id)\n",
    "\n",
    "print(\"The first region descriptions is: %s\" % regions[0].phrase)\n",
    "print(\"It is located in a bounding box specified by x:%d, y:%d, width:%d, height:%d\" \n",
    "      % (regions[0].x, regions[0].y, regions[0].width, regions[0].height))"
   ]
  },
  {
   "cell_type": "code",
   "execution_count": null,
   "metadata": {},
   "outputs": [],
   "source": [
    "for i, region in enumerate(regions):\n",
    "    print(\"regions[%2d].id=%7d .phrase='%s'\" % (i, region.id, region.phrase,))"
   ]
  },
  {
   "cell_type": "code",
   "execution_count": null,
   "metadata": {},
   "outputs": [],
   "source": [
    "fig = plt.gcf()\n",
    "fig.set_size_inches(18.5, 10.5)\n",
    "def visualize_regions(image, regions):\n",
    "    response = requests.get(image.url)\n",
    "    img = PIL_Image.open(ReadBytes(response.content))\n",
    "    plt.imshow(img)\n",
    "    ax = plt.gca()\n",
    "    for region in regions:\n",
    "        ax.add_patch(Rectangle((region.x, region.y),\n",
    "                               region.width, region.height,\n",
    "                               fill=False,\n",
    "                               edgecolor='red', linewidth=3))\n",
    "        ax.text(region.x, region.y, region.phrase, style='italic', \n",
    "                bbox={'facecolor':'white', 'alpha':0.7, 'pad':10})\n",
    "    fig = plt.gcf()\n",
    "    #plt.tick_params(labelbottom='off', labelleft='off')\n",
    "    plt.tick_params(labelbottom=False, labelleft=False)\n",
    "    plt.show()\n",
    "visualize_regions(image, regions[:8])"
   ]
  },
  {
   "cell_type": "code",
   "execution_count": null,
   "metadata": {},
   "outputs": [],
   "source": [
    "region_id=38502  # Guitar leaning on wall\n",
    "#region_id=0      # Guitar leaning on wall ?  Returns error...\n",
    "region_id=5969774  # 'toiletin a bathroom'"
   ]
  },
  {
   "cell_type": "code",
   "execution_count": null,
   "metadata": {},
   "outputs": [],
   "source": [
    "region_graph=vg.get_region_graph_of_region(image_id=image_id, region_id=region_id)\n",
    "[ e for e in dir(region_graph) if not e.startswith('_') ]"
   ]
  },
  {
   "cell_type": "code",
   "execution_count": null,
   "metadata": {},
   "outputs": [],
   "source": [
    "region_graph.relationships"
   ]
  },
  {
   "cell_type": "code",
   "execution_count": null,
   "metadata": {},
   "outputs": [],
   "source": [
    "region_graph.objects"
   ]
  },
  {
   "cell_type": "code",
   "execution_count": null,
   "metadata": {},
   "outputs": [],
   "source": [
    "region_graph.attributes"
   ]
  },
  {
   "cell_type": "code",
   "execution_count": null,
   "metadata": {},
   "outputs": [],
   "source": [
    "region_graph.image"
   ]
  },
  {
   "cell_type": "code",
   "execution_count": null,
   "metadata": {},
   "outputs": [],
   "source": [
    "scene_graph = vg.get_scene_graph_of_image(id=image_id)"
   ]
  },
  {
   "cell_type": "code",
   "execution_count": null,
   "metadata": {},
   "outputs": [],
   "source": [
    "[ e for e in dir(scene_graph) if not e.startswith('_') ]"
   ]
  },
  {
   "cell_type": "code",
   "execution_count": null,
   "metadata": {},
   "outputs": [],
   "source": [
    "#scene_graph.bounding_boxes\n",
    "scene_graph.objects"
   ]
  },
  {
   "cell_type": "code",
   "execution_count": null,
   "metadata": {},
   "outputs": [],
   "source": [
    "[ e for e in dir(scene_graph.objects[0]) if not e.startswith('_') ]"
   ]
  },
  {
   "cell_type": "code",
   "execution_count": null,
   "metadata": {},
   "outputs": [],
   "source": [
    "scene_graph.relationships  # No guitar/wall relationship... sigh"
   ]
  },
  {
   "cell_type": "code",
   "execution_count": null,
   "metadata": {},
   "outputs": [],
   "source": [
    "scene_graph.attributes"
   ]
  },
  {
   "cell_type": "code",
   "execution_count": null,
   "metadata": {},
   "outputs": [],
   "source": []
  }
 ],
 "metadata": {
  "kernelspec": {
   "display_name": "Python 3",
   "language": "python",
   "name": "python3"
  },
  "language_info": {
   "codemirror_mode": {
    "name": "ipython",
    "version": 3
   },
   "file_extension": ".py",
   "mimetype": "text/x-python",
   "name": "python",
   "nbconvert_exporter": "python",
   "pygments_lexer": "ipython3",
   "version": "3.6.6"
  }
 },
 "nbformat": 4,
 "nbformat_minor": 2
}