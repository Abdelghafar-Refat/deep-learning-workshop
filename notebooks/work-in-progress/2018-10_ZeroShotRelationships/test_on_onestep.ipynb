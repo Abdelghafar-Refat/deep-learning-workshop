{
 "cells": [
  {
   "cell_type": "code",
   "execution_count": null,
   "metadata": {},
   "outputs": [],
   "source": [
    "import os\n",
    "import numpy as np"
   ]
  },
  {
   "cell_type": "code",
   "execution_count": null,
   "metadata": {},
   "outputs": [],
   "source": [
    "test_file = 'test.1_all.hdf5_base.npz'\n",
    "#test_file = 'dev.1_all.hdf5_base.npz'\n",
    "test_path = './orig/omerlevy-bidaf_no_answer-2e9868b224e4/relation_splits/'\n",
    "\n",
    "data = np.load( os.path.join(test_path,test_file) )\n",
    "data.files  # ['predictions', 'targets']"
   ]
  },
  {
   "cell_type": "code",
   "execution_count": null,
   "metadata": {},
   "outputs": [],
   "source": [
    "preds, targs = data['predictions'], data['targets']\n",
    "preds.shape, targs.shape  # ((10, 1, 5, 128), (10, 1, 128))"
   ]
  },
  {
   "cell_type": "code",
   "execution_count": null,
   "metadata": {},
   "outputs": [],
   "source": [
    "def assess(pred, targ):\n",
    "    pass\n",
    "\n",
    "idx=0; assess( preds[idx, 0, :, :], targs[idx, 0, :] )"
   ]
  },
  {
   "cell_type": "code",
   "execution_count": null,
   "metadata": {},
   "outputs": [],
   "source": []
  }
 ],
 "metadata": {
  "kernelspec": {
   "display_name": "Python 3",
   "language": "python",
   "name": "python3"
  },
  "language_info": {
   "codemirror_mode": {
    "name": "ipython",
    "version": 3
   },
   "file_extension": ".py",
   "mimetype": "text/x-python",
   "name": "python",
   "nbconvert_exporter": "python",
   "pygments_lexer": "ipython3",
   "version": "3.6.6"
  }
 },
 "nbformat": 4,
 "nbformat_minor": 2
}