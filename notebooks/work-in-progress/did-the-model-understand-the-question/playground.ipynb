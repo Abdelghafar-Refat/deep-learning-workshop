{
 "cells": [
  {
   "cell_type": "code",
   "execution_count": null,
   "metadata": {
    "scrolled": true
   },
   "outputs": [],
   "source": [
    "import torch\n",
    "\n",
    "use_cuda = torch.cuda.is_available()\n",
    "device = torch.device(\"cuda\" if use_cuda else \"cpu\")"
   ]
  },
  {
   "cell_type": "code",
   "execution_count": null,
   "metadata": {
    "scrolled": true
   },
   "outputs": [],
   "source": [
    "#git clone https://github.com/Cyanogenoid/pytorch-vqa.git\n",
    "\n",
    "import os, sys\n",
    "sys.path.append(os.path.realpath('./pytorch-vqa'))"
   ]
  },
  {
   "cell_type": "code",
   "execution_count": null,
   "metadata": {
    "scrolled": true
   },
   "outputs": [],
   "source": [
    "# https://github.com/Cyanogenoid/pytorch-vqa/releases\n",
    "\n",
    "#wget https://github.com/Cyanogenoid/pytorch-vqa/releases/download/v1.0/2017-08-04_00.55.19.pth  # 81Mb model"
   ]
  },
  {
   "cell_type": "code",
   "execution_count": null,
   "metadata": {
    "scrolled": true
   },
   "outputs": [],
   "source": [
    "import model\n",
    "\n",
    "#log = torch.load('logs/2017-08-04_00:55:19.pth')\n",
    "log = torch.load('./2017-08-04_00.55.19.pth')\n",
    "tokens = len(log['vocab']['question']) + 1\n",
    "\n",
    "net = torch.nn.DataParallel(model.Net(tokens))\n",
    "net.load_state_dict(log['weights'])\n",
    "net.to(device)"
   ]
  },
  {
   "cell_type": "code",
   "execution_count": null,
   "metadata": {
    "scrolled": true
   },
   "outputs": [],
   "source": [
    "log.keys()"
   ]
  },
  {
   "cell_type": "code",
   "execution_count": null,
   "metadata": {
    "scrolled": true
   },
   "outputs": [],
   "source": [
    "# Now let's try and answer a question on a single image...\n"
   ]
  },
  {
   "cell_type": "code",
   "execution_count": null,
   "metadata": {
    "scrolled": true
   },
   "outputs": [],
   "source": [
    "sys.path.append(os.path.realpath('./pytorch-resnet'))"
   ]
  },
  {
   "cell_type": "code",
   "execution_count": null,
   "metadata": {
    "scrolled": true
   },
   "outputs": [],
   "source": [
    "import resnet\n",
    "\n",
    "import torchvision.transforms as transforms\n",
    "from PIL import Image\n",
    "\n",
    "def get_transform(target_size, central_fraction=1.0):\n",
    "    return transforms.Compose([\n",
    "        transforms.Scale(int(target_size / central_fraction)),\n",
    "        transforms.CenterCrop(target_size),\n",
    "        transforms.ToTensor(),\n",
    "        transforms.Normalize(mean=[0.485, 0.456, 0.406],\n",
    "                             std=[0.229, 0.224, 0.225]),\n",
    "    ])\n",
    "\n",
    "class ResNetLayer4(torch.nn.Module):\n",
    "    def __init__(self):\n",
    "        super(ResNetLayer4, self).__init__()\n",
    "        self.model = resnet.resnet152(pretrained=True)\n",
    "        \n",
    "        # from  visual_qa_analysis/config.py\n",
    "        image_size = 448  # scale shorter end of image to this size and centre crop\n",
    "        #output_size = image_size // 32  # size of the feature maps after processing through a network\n",
    "        output_features = 2048  # number of feature maps thereof\n",
    "        central_fraction = 0.875 # only take this much of the centre when scaling and centre cropping\n",
    "\n",
    "        self.transform = get_transform(image_size, central_fraction)\n",
    "\n",
    "        def save_output(module, input, output):\n",
    "            self.buffer = output\n",
    "        self.model.layer4.register_forward_hook(save_output)\n",
    "\n",
    "    def forward(self, x):\n",
    "        self.model(x)\n",
    "        return self.buffer\n",
    "    \n",
    "    def image_to_features(img_file):\n",
    "        img = Image.open(img_file).convert('RGB')\n",
    "        img_transformed = self.transform(img)\n",
    "        return self.forward(img_transformed)\n",
    "    \n",
    "resnet_layer4 = ResNetLayer4().to(device)  # Downloads 241Mb model when first run\n"
   ]
  },
  {
   "cell_type": "code",
   "execution_count": null,
   "metadata": {
    "scrolled": true
   },
   "outputs": [],
   "source": [
    "#resnet_layer4.image_to_features('')"
   ]
  },
  {
   "cell_type": "code",
   "execution_count": null,
   "metadata": {
    "scrolled": true
   },
   "outputs": [],
   "source": []
  },
  {
   "cell_type": "code",
   "execution_count": null,
   "metadata": {
    "scrolled": true
   },
   "outputs": [],
   "source": []
  },
  {
   "cell_type": "code",
   "execution_count": null,
   "metadata": {
    "scrolled": true
   },
   "outputs": [],
   "source": []
  },
  {
   "cell_type": "code",
   "execution_count": null,
   "metadata": {
    "scrolled": true
   },
   "outputs": [],
   "source": []
  },
  {
   "cell_type": "code",
   "execution_count": null,
   "metadata": {
    "scrolled": true
   },
   "outputs": [],
   "source": [
    "# Load vocabulary\n",
    "with open(config.vocabulary_path, 'r') as fd:\n",
    "  vocab_json = json.load(fd)\n",
    "reverse_vocab_question = dict([(v, k) for k, v in vocab_json['question'].items()])\n",
    "reverse_vocab_answer   = dict([(v, k) for k, v in vocab_json['answer'].items()])"
   ]
  },
  {
   "cell_type": "code",
   "execution_count": null,
   "metadata": {
    "scrolled": true
   },
   "outputs": [],
   "source": [
    "# From visual_qa_analysis/notebooks/inference.ipynb\n",
    "\n",
    "log_softmax = nn.LogSoftmax().cuda()\n",
    "num_batches = 0\n",
    "for v, q, a, idx, q_len in tq:\n",
    "        var_params = {\n",
    "            'volatile': True,\n",
    "            'requires_grad': False,\n",
    "        }\n",
    "        v = Variable(v.cuda(async=True), **var_params)\n",
    "        q = Variable(q.cuda(async=True), **var_params)\n",
    "        a = Variable(a.cuda(async=True), **var_params)\n",
    "        q_len = Variable(q_len.cuda(async=True), **var_params)\n",
    "\n",
    "        out = net(v, q, q_len)\n",
    "        nll = -log_softmax(out)\n",
    "        loss = (nll * a / 10).sum(dim=1).mean()\n",
    "        acc = utils.batch_accuracy(out.data, a.data).cpu()\n",
    "        \n",
    "        _, answer = out.data.cpu().max(dim=1)\n",
    "        answ.append(answer.view(-1))\n",
    "        accs.append(acc.view(-1))\n",
    "        idxs.append(idx.view(-1).clone())\n",
    "        print(np.mean(list(torch.cat(accs, dim=0))))"
   ]
  },
  {
   "cell_type": "code",
   "execution_count": null,
   "metadata": {
    "scrolled": true
   },
   "outputs": [],
   "source": []
  }
 ],
 "metadata": {
  "kernelspec": {
   "display_name": "Python 3",
   "language": "python",
   "name": "python3"
  },
  "language_info": {
   "codemirror_mode": {
    "name": "ipython",
    "version": 3
   },
   "file_extension": ".py",
   "mimetype": "text/x-python",
   "name": "python",
   "nbconvert_exporter": "python",
   "pygments_lexer": "ipython3",
   "version": "3.6.5"
  }
 },
 "nbformat": 4,
 "nbformat_minor": 2
}