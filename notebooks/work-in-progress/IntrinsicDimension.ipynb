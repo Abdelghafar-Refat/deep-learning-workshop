{
 "cells": [
  {
   "cell_type": "code",
   "execution_count": null,
   "metadata": {},
   "outputs": [],
   "source": [
    "#from __future__ import print_function\n",
    "import torch\n",
    "import torch.nn.functional as F\n",
    "from torchvision import datasets, transforms"
   ]
  },
  {
   "cell_type": "code",
   "execution_count": null,
   "metadata": {},
   "outputs": [],
   "source": [
    "n_epochs = 5\n",
    "batch_size, batch_log_interval, lr = 32, 600, 0.01\n",
    "seed = 10\n",
    "\n",
    "try_cuda = True"
   ]
  },
  {
   "cell_type": "code",
   "execution_count": null,
   "metadata": {},
   "outputs": [],
   "source": [
    "use_cuda = try_cuda and torch.cuda.is_available()\n",
    "torch.manual_seed(seed)\n",
    "\n",
    "device = torch.device(\"cuda\" if use_cuda else \"cpu\")"
   ]
  },
  {
   "cell_type": "code",
   "execution_count": null,
   "metadata": {},
   "outputs": [],
   "source": [
    "loader_kwargs = {'num_workers': 1, 'pin_memory': True} if use_cuda else {}\n",
    "\n",
    "mnist_transform = transforms.Compose([\n",
    "                       transforms.ToTensor(),\n",
    "                       transforms.Normalize((0.1307,), (0.3081,))\n",
    "                   ])\n",
    "\n",
    "train_loader = torch.utils.data.DataLoader(\n",
    "    datasets.MNIST('./data', train=True, download=True, transform=mnist_transform),\n",
    "    batch_size=batch_size, shuffle=True, **loader_kwargs)\n",
    "\n",
    "test_loader = torch.utils.data.DataLoader(\n",
    "    datasets.MNIST('./data', train=False, transform=mnist_transform),\n",
    "    batch_size=1000, shuffle=False, **loader_kwargs)"
   ]
  },
  {
   "cell_type": "code",
   "execution_count": null,
   "metadata": {},
   "outputs": [],
   "source": [
    "class RegularCNNModel(torch.nn.Module):\n",
    "    def __init__(self):\n",
    "        super(RegularCNNModel, self).__init__()\n",
    "        torch.manual_seed(seed)\n",
    "        self.conv1 = torch.nn.Conv2d(1, 10, kernel_size=5)\n",
    "        self.conv2 = torch.nn.Conv2d(10, 20, kernel_size=5)\n",
    "        self.conv2_drop = torch.nn.Dropout2d()\n",
    "        self.fc1 = torch.nn.Linear(320, 50)\n",
    "        self.fc2 = torch.nn.Linear(50, 10)\n",
    "\n",
    "    def forward(self, x):\n",
    "        x = F.relu(F.max_pool2d(self.conv1(x), 2))\n",
    "        x = F.relu(F.max_pool2d(self.conv2_drop(self.conv2(x)), 2))\n",
    "        x = x.view(-1, 320)\n",
    "        x = F.relu(self.fc1(x))\n",
    "        x = F.dropout(x, training=self.training)\n",
    "        x = self.fc2(x)\n",
    "        return F.log_softmax(x, dim=1)"
   ]
  },
  {
   "cell_type": "code",
   "execution_count": null,
   "metadata": {},
   "outputs": [],
   "source": []
  },
  {
   "cell_type": "code",
   "execution_count": null,
   "metadata": {},
   "outputs": [],
   "source": [
    "def train(model, optimizer, epoch_num):\n",
    "    model.train()\n",
    "    for batch_idx, (data, target) in enumerate(train_loader):\n",
    "        data, target = data.to(device), target.to(device)\n",
    "        optimizer.zero_grad()\n",
    "        output = model(data)\n",
    "        loss = F.nll_loss(output, target)\n",
    "        loss.backward()\n",
    "        optimizer.step()\n",
    "        if batch_idx % batch_log_interval == 0:\n",
    "            print('Train Epoch: {} [{: 6d}/{: 6d} ({:2.0f}%)]\\tLoss: {:.4f}'.format(\n",
    "                epoch_num, batch_idx * len(data), len(train_loader.dataset),\n",
    "                100. * batch_idx / len(train_loader), loss.item()))\n",
    "\n",
    "def test(model):\n",
    "    model.eval()\n",
    "    test_loss, correct = 0., 0\n",
    "    with torch.no_grad():\n",
    "        for data, target in test_loader:\n",
    "            data, target = data.to(device), target.to(device)\n",
    "            output = model(data)\n",
    "            test_loss += F.nll_loss(output, target, size_average=False).item() # sum up batch loss\n",
    "            pred = output.max(1, keepdim=True)[1] # get the index of the max log-probability\n",
    "            correct += pred.eq(target.view_as(pred)).sum().item()\n",
    "\n",
    "    test_loss /= len(test_loader.dataset)\n",
    "    pct_correct = 100. * correct / len(test_loader.dataset)\n",
    "    print('\\nTest set: Average loss: {:.4f}, Accuracy: {}/{} ({:.1f}%)\\n'.format(\n",
    "        test_loss, correct, len(test_loader.dataset), pct_correct))\n",
    "    return pct_correct"
   ]
  },
  {
   "cell_type": "code",
   "execution_count": null,
   "metadata": {},
   "outputs": [],
   "source": [
    "def use_model(model):  # , **kwargs\n",
    "    _model = model.to(device)\n",
    "    #optimizer = optim.SGD(_model.parameters(), lr=args.lr, momentum=momentum)\n",
    "    optimizer = torch.optim.Adam(_model.parameters(), lr=lr)\n",
    "    return _model, optimizer\n",
    "\n",
    "def get_stats_for(model, n_epochs=n_epochs):\n",
    "    _model, optimizer = use_model(model)\n",
    "    for epoch in range(1, n_epochs + 1):\n",
    "        train(_model, optimizer, epoch)\n",
    "        pct_correct = test(_model)\n",
    "    return pct_correct\n",
    "        \n",
    "get_stats_for(RegularCNNModel())"
   ]
  },
  {
   "cell_type": "code",
   "execution_count": null,
   "metadata": {},
   "outputs": [],
   "source": []
  },
  {
   "cell_type": "code",
   "execution_count": null,
   "metadata": {},
   "outputs": [],
   "source": []
  },
  {
   "cell_type": "code",
   "execution_count": null,
   "metadata": {},
   "outputs": [],
   "source": [
    "class IntrinsicDimensionWrapper(torch.nn.Module):\n",
    "    def __init__(self, module, intrinsic_dimension):\n",
    "        super(IntrinsicDimensionWrapper, self).__init__()\n",
    "        self.m = [module] # Hide this from inspection by get_parameters()\n",
    "        \n",
    "        self.name_base_localname = []\n",
    "        self.initial_value = dict()\n",
    "        self.random_matrix = dict()\n",
    "       \n",
    "        V = torch.nn.Parameter( torch.zeros( (intrinsic_dimension,1) ).to(device) )\n",
    "        self.register_parameter('V', V)\n",
    "        \n",
    "        v_size = (intrinsic_dimension, )\n",
    "        for name, param in module.named_parameters():\n",
    "            if param.requires_grad:\n",
    "                print(name, param.data.size(), v_size)\n",
    "                # Saves the current param.data (initial values are the 'origin' of the search)\n",
    "                self.initial_value[name] = v0 = torch.tensor(param.data, requires_grad=False) .to(device)\n",
    "                matrix_size = v0.size() + v_size\n",
    "                self.random_matrix[name] = (\n",
    "                    torch.randn(matrix_size, requires_grad=False).to(device)\n",
    "                    /intrinsic_dimension\n",
    "                )\n",
    "                \n",
    "                base, localname = module, name\n",
    "                while '.' in localname:\n",
    "                    prefix, localname = localname.split('.', 1)\n",
    "                    #print(prefix, name)\n",
    "                    base = base.__getattr__(prefix)\n",
    "                self.name_base_localname.append( (name, base, localname) )\n",
    "                #kill_params.append( (base, name) )\n",
    "        for name,base,localname in self.name_base_localname:\n",
    "            delattr(base, localname)\n",
    "\n",
    "    def forward(self, x):   \n",
    "        module = self.m[0]\n",
    "        for name,base,localname in self.name_base_localname:\n",
    "            #print(self.initial_value[name].size(), self.random_matrix[name].size(), self.V.size(), \n",
    "            #      torch.matmul(self.random_matrix[name], self.V).size())\n",
    "            ray = torch.matmul(self.random_matrix[name], self.V)\n",
    "            #param = torch.nn.Parameter( self.initial_value[name] + torch.squeeze(ray, -1) )\n",
    "            param = self.initial_value[name] + torch.squeeze(ray, -1)\n",
    "            #print(param.requires_grad) # Check that grad of V passes through\n",
    "            #print(param.data)\n",
    "\n",
    "            # Need to recurse through parameter hierarchy\n",
    "            #base=module\n",
    "            #while '.' in name:\n",
    "            #    prefix, name = name.split('.', 1)\n",
    "            #    #print(prefix, name)\n",
    "            #    base = base.__getattr__(prefix)\n",
    "            #base.__setattr__(name, param)\n",
    "            #setattr(base, name, param)\n",
    "            setattr(base, localname, param)\n",
    "\n",
    "        x = module(x)\n",
    "        return x\n",
    "\n",
    "#model_test= torch.nn.Linear(3,4)\n",
    "model_single = IntrinsicDimensionWrapper( torch.nn.Linear(3, 4), 20 )\n",
    "\n",
    "#[p[0] for p in model_test.named_parameters()]\n",
    "[ (p, p.requires_grad) for p in model_single.parameters() ]\n",
    "#model_test.initial_value"
   ]
  },
  {
   "cell_type": "code",
   "execution_count": null,
   "metadata": {},
   "outputs": [],
   "source": []
  },
  {
   "cell_type": "code",
   "execution_count": null,
   "metadata": {},
   "outputs": [],
   "source": [
    "x = torch.tensor( [1., 5., -1.25] ).to(device)\n",
    "\n",
    "model_single(x)"
   ]
  },
  {
   "cell_type": "code",
   "execution_count": null,
   "metadata": {},
   "outputs": [],
   "source": [
    "#model_test.V.data[3]=0.\n",
    "model_single.V.data[3]+=.005\n",
    "model_single(x)"
   ]
  },
  {
   "cell_type": "code",
   "execution_count": null,
   "metadata": {},
   "outputs": [],
   "source": [
    "opt_test = torch.optim.Adam(model_single.parameters(), lr=lr)\n",
    "\n",
    "model_single.train()\n",
    "\n",
    "#data, target = data.to(device), target.to(device)\n",
    "x_batch = torch.unsqueeze(x,0)\n",
    "data, target = x_batch, torch.tensor( [1,] ).to(device)\n",
    "\n",
    "opt_test.zero_grad()\n",
    "output = model_single(data)\n",
    "loss = F.nll_loss(output, target)\n",
    "print(loss)\n",
    "loss.backward()\n",
    "opt_test.step()\n",
    "\n",
    "model_single.V.requires_grad,\n",
    "#model_single.m[0].weight.grad, model_single.m[0].weight.grad"
   ]
  },
  {
   "cell_type": "code",
   "execution_count": null,
   "metadata": {},
   "outputs": [],
   "source": []
  },
  {
   "cell_type": "code",
   "execution_count": null,
   "metadata": {},
   "outputs": [],
   "source": []
  },
  {
   "cell_type": "code",
   "execution_count": null,
   "metadata": {},
   "outputs": [],
   "source": [
    "## Now, let's build the CNN model with Intrinsic Dimension Wrapping...\n",
    "\n",
    "intrinsic_dimension_guess = 1500"
   ]
  },
  {
   "cell_type": "code",
   "execution_count": null,
   "metadata": {},
   "outputs": [],
   "source": [
    "#V = torch.zeros( (intrinsic_dimension_guess,1), requires_grad=True)\n",
    "\n",
    "model_base = RegularCNNModel()\n",
    "#[name for name,param in model_base.named_parameters()]\n",
    "\n",
    "model_wrapped = IntrinsicDimensionWrapper( model_base, intrinsic_dimension_guess )\n",
    "[name for name,param in model_wrapped.named_parameters()]\n",
    "#[param for param in model_wrapped.parameters()]"
   ]
  },
  {
   "cell_type": "code",
   "execution_count": null,
   "metadata": {},
   "outputs": [],
   "source": [
    "get_stats_for( model_wrapped )"
   ]
  },
  {
   "cell_type": "code",
   "execution_count": null,
   "metadata": {},
   "outputs": [],
   "source": []
  },
  {
   "cell_type": "code",
   "execution_count": null,
   "metadata": {},
   "outputs": [],
   "source": []
  }
 ],
 "metadata": {
  "kernelspec": {
   "display_name": "Python 3",
   "language": "python",
   "name": "python3"
  },
  "language_info": {
   "codemirror_mode": {
    "name": "ipython",
    "version": 3
   },
   "file_extension": ".py",
   "mimetype": "text/x-python",
   "name": "python",
   "nbconvert_exporter": "python",
   "pygments_lexer": "ipython3",
   "version": "3.6.5"
  }
 },
 "nbformat": 4,
 "nbformat_minor": 2
}