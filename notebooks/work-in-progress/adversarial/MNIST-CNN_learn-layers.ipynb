{
 "cells": [
  {
   "cell_type": "code",
   "execution_count": null,
   "metadata": {
    "collapsed": true,
    "deletable": true,
    "editable": true
   },
   "outputs": [],
   "source": [
    "#  Copyright 2016 The TensorFlow Authors. All Rights Reserved.\n",
    "#\n",
    "#  Licensed under the Apache License, Version 2.0 (the \"License\");\n",
    "#  you may not use this file except in compliance with the License.\n",
    "#  You may obtain a copy of the License at\n",
    "#\n",
    "#   http://www.apache.org/licenses/LICENSE-2.0\n",
    "#\n",
    "#  Unless required by applicable law or agreed to in writing, software\n",
    "#  distributed under the License is distributed on an \"AS IS\" BASIS,\n",
    "#  WITHOUT WARRANTIES OR CONDITIONS OF ANY KIND, either express or implied.\n",
    "#  See the License for the specific language governing permissions and\n",
    "#  limitations under the License.\n",
    "\n",
    "#  FROM : https://www.tensorflow.org/tutorials/layers#building_the_cnn_mnist_classifier\n",
    "#  CODE : https://www.tensorflow.org/code/tensorflow/examples/tutorials/layers/cnn_mnist.py\n",
    "\n",
    "\"\"\"Convolutional Neural Network Estimator for MNIST, built with tf.layers.\"\"\"\n",
    "\n",
    "from __future__ import absolute_import\n",
    "from __future__ import division\n",
    "from __future__ import print_function\n",
    "\n",
    "import numpy as np\n",
    "import tensorflow as tf\n",
    "\n",
    "from tensorflow.contrib import learn\n",
    "from tensorflow.contrib.learn.python.learn.estimators import model_fn as model_fn_lib\n",
    "\n",
    "tf.logging.set_verbosity(tf.logging.INFO)"
   ]
  },
  {
   "cell_type": "code",
   "execution_count": null,
   "metadata": {
    "collapsed": true,
    "deletable": true,
    "editable": true
   },
   "outputs": [],
   "source": [
    "def cnn_model_fn(features, labels, mode):\n",
    "  \"\"\"Model function for CNN.\"\"\"\n",
    "  # Input Layer\n",
    "  # Reshape X to 4-D tensor: [batch_size, width, height, channels]\n",
    "  # MNIST images are 28x28 pixels, and have one color channel\n",
    "  input_layer = tf.reshape(features, [-1, 28, 28, 1])\n",
    "\n",
    "  # Convolutional Layer #1\n",
    "  # Computes 32 features using a 5x5 filter with ReLU activation.\n",
    "  # Padding is added to preserve width and height.\n",
    "  # Input Tensor Shape: [batch_size, 28, 28, 1]\n",
    "  # Output Tensor Shape: [batch_size, 28, 28, 32]\n",
    "  conv1 = tf.layers.conv2d(\n",
    "      inputs=input_layer,\n",
    "      filters=32,\n",
    "      kernel_size=[5, 5],\n",
    "      padding=\"same\",\n",
    "      activation=tf.nn.relu)\n",
    "\n",
    "  # Pooling Layer #1\n",
    "  # First max pooling layer with a 2x2 filter and stride of 2\n",
    "  # Input Tensor Shape: [batch_size, 28, 28, 32]\n",
    "  # Output Tensor Shape: [batch_size, 14, 14, 32]\n",
    "  pool1 = tf.layers.max_pooling2d(inputs=conv1, pool_size=[2, 2], strides=2)\n",
    "\n",
    "  # Convolutional Layer #2\n",
    "  # Computes 64 features using a 5x5 filter.\n",
    "  # Padding is added to preserve width and height.\n",
    "  # Input Tensor Shape: [batch_size, 14, 14, 32]\n",
    "  # Output Tensor Shape: [batch_size, 14, 14, 64]\n",
    "  conv2 = tf.layers.conv2d(\n",
    "      inputs=pool1,\n",
    "      filters=64,\n",
    "      kernel_size=[5, 5],\n",
    "      padding=\"same\",\n",
    "      activation=tf.nn.relu)\n",
    "\n",
    "  # Pooling Layer #2\n",
    "  # Second max pooling layer with a 2x2 filter and stride of 2\n",
    "  # Input Tensor Shape: [batch_size, 14, 14, 64]\n",
    "  # Output Tensor Shape: [batch_size, 7, 7, 64]\n",
    "  pool2 = tf.layers.max_pooling2d(inputs=conv2, pool_size=[2, 2], strides=2)\n",
    "\n",
    "  # Flatten tensor into a batch of vectors\n",
    "  # Input Tensor Shape: [batch_size, 7, 7, 64]\n",
    "  # Output Tensor Shape: [batch_size, 7 * 7 * 64]\n",
    "  pool2_flat = tf.reshape(pool2, [-1, 7 * 7 * 64])\n",
    "\n",
    "  # Dense Layer\n",
    "  # Densely connected layer with 1024 neurons\n",
    "  # Input Tensor Shape: [batch_size, 7 * 7 * 64]\n",
    "  # Output Tensor Shape: [batch_size, 1024]\n",
    "  dense = tf.layers.dense(inputs=pool2_flat, units=1024, activation=tf.nn.relu)\n",
    "\n",
    "  # Add dropout operation; 0.6 probability that element will be kept\n",
    "  dropout = tf.layers.dropout(\n",
    "      inputs=dense, rate=0.4, training=mode == learn.ModeKeys.TRAIN)\n",
    "\n",
    "  # Logits layer\n",
    "  # Input Tensor Shape: [batch_size, 1024]\n",
    "  # Output Tensor Shape: [batch_size, 10]\n",
    "  logits = tf.layers.dense(inputs=dropout, units=10)\n",
    "  #logits = tf.layers.dense(inputs=dense, units=10)\n",
    "\n",
    "  loss = None\n",
    "  train_op = None\n",
    "\n",
    "  # Calculate Loss (for both TRAIN and EVAL modes)\n",
    "  if mode != learn.ModeKeys.INFER:\n",
    "    onehot_labels = tf.one_hot(indices=tf.cast(labels, tf.int32), depth=10)\n",
    "    loss = tf.losses.softmax_cross_entropy(\n",
    "        onehot_labels=onehot_labels, logits=logits)\n",
    "\n",
    "  # Configure the Training Op (for TRAIN mode)\n",
    "  if mode == learn.ModeKeys.TRAIN:\n",
    "    train_op = tf.contrib.layers.optimize_loss(\n",
    "        loss=loss,\n",
    "        global_step=tf.contrib.framework.get_global_step(),\n",
    "        learning_rate=0.001,\n",
    "        #optimizer=\"SGD\")\n",
    "        optimizer=\"Adam\")\n",
    "\n",
    "  # Generate Predictions\n",
    "  predictions = {\n",
    "      \"classes\": tf.argmax(\n",
    "          input=logits, axis=1),\n",
    "      \"probabilities\": tf.nn.softmax(\n",
    "          logits, name=\"softmax_tensor\"), \n",
    "      \"logits\": logits,\n",
    "  }\n",
    "\n",
    "  # Return a ModelFnOps object\n",
    "  return model_fn_lib.ModelFnOps(\n",
    "      mode=mode, predictions=predictions, loss=loss, train_op=train_op)"
   ]
  },
  {
   "cell_type": "code",
   "execution_count": null,
   "metadata": {
    "collapsed": false,
    "deletable": true,
    "editable": true
   },
   "outputs": [],
   "source": [
    "# Load training and eval data\n",
    "mnist = learn.datasets.load_dataset(\"mnist\")\n",
    "\n",
    "train_data   = mnist.train.images  # Returns np.array\n",
    "train_labels = np.asarray(mnist.train.labels, dtype=np.int32)\n",
    "\n",
    "eval_data    = mnist.test.images  # Returns np.array\n",
    "eval_labels  = np.asarray(mnist.test.labels, dtype=np.int32)"
   ]
  },
  {
   "cell_type": "code",
   "execution_count": null,
   "metadata": {
    "collapsed": false,
    "deletable": true,
    "editable": true
   },
   "outputs": [],
   "source": [
    "# Create the Estimator : https://www.tensorflow.org/extend/estimators\n",
    "import os\n",
    "this_dir = os.getcwd()\n",
    "\n",
    "mnist_classifier = learn.Estimator(\n",
    "      model_fn=cnn_model_fn, model_dir=\"mnist_convnet_model\")  # This is relative to the ipynb\n",
    "      #model_fn=cnn_model_fn, model_dir=os.path.join(this_dir, \"mnist_convnet_model\"))  # This is system-absolute\n",
    "\n",
    "# NB :  Check the checkpoints file in 'mnist_convnet_model has filenames that are in same directory"
   ]
  },
  {
   "cell_type": "code",
   "execution_count": null,
   "metadata": {
    "collapsed": false,
    "deletable": true,
    "editable": true,
    "scrolled": false
   },
   "outputs": [],
   "source": [
    "# Set up logging for predictions\n",
    "# Log the values in the \"Softmax\" tensor with label \"probabilities\"\n",
    "tensors_to_log = {\"probabilities\": \"softmax_tensor\"}\n",
    "logging_hook = tf.train.LoggingTensorHook( tensors=tensors_to_log, every_n_iter=50 )\n",
    "\n",
    "# Train the model\n",
    "mnist_classifier.fit(\n",
    "  x=train_data,\n",
    "  y=train_labels,\n",
    "  batch_size=100,\n",
    "  steps=50000/100 * 5,\n",
    "#  steps=20000,\n",
    "#  monitors=[logging_hook]\n",
    ")"
   ]
  },
  {
   "cell_type": "code",
   "execution_count": null,
   "metadata": {
    "collapsed": true,
    "deletable": true,
    "editable": true
   },
   "outputs": [],
   "source": [
    "#mnist_classifier.save()"
   ]
  },
  {
   "cell_type": "code",
   "execution_count": null,
   "metadata": {
    "collapsed": false,
    "deletable": true,
    "editable": true
   },
   "outputs": [],
   "source": [
    "# Configure the accuracy metric for evaluation\n",
    "metrics = {\n",
    "  \"accuracy\":\n",
    "      #learn.metric_spec.MetricSpec(\n",
    "      learn.MetricSpec(\n",
    "          metric_fn=tf.metrics.accuracy, prediction_key=\"classes\"),\n",
    "}\n",
    "\n",
    "# Evaluate the model and print results\n",
    "eval_results = mnist_classifier.evaluate( x=eval_data, y=eval_labels, metrics=metrics)\n",
    "\n",
    "print(eval_results)"
   ]
  },
  {
   "cell_type": "markdown",
   "metadata": {
    "collapsed": true,
    "deletable": true,
    "editable": true
   },
   "source": [
    "Ok, so the built Estimator gets 99.26% accuracy on the test set.\n",
    "\n",
    "### Next Steps\n",
    "\n",
    "Let's :\n",
    "\n",
    "*  go through the training set and store the logits for [the valid?] ALL the numbers;\n",
    "\n",
    "*  build an AutoEncoder on the logits, which minimises reconstruction error;\n",
    "\n",
    "*  histogram the reconstruction error to find a bound above which we can reject an input image;\n",
    "\n",
    "*  create adversarial examples that fool the original Estimator;\n",
    "\n",
    "*  check that the adversarial examples score outside the bound;\n",
    "\n",
    "*  attempt to create adversarial examples on an updated network that includes the autoencoder bound as a gating function on the rest of the outputs;\n",
    "\n",
    "*  create an infoGAN network for MNIST that allows us to create digits that are 'between' two classes;\n",
    "\n",
    "*  score the reconstruction error of the between images to look at the rejection regions (which hopefully isolate the islands of acceptance from one another)\n",
    "\n",
    "\n"
   ]
  },
  {
   "cell_type": "markdown",
   "metadata": {
    "collapsed": true
   },
   "source": [
    "#### Get logit representation for all training examples\n"
   ]
  },
  {
   "cell_type": "code",
   "execution_count": null,
   "metadata": {
    "collapsed": false
   },
   "outputs": [],
   "source": [
    "# Evaluate the model and gather the results\n",
    "predictions = mnist_classifier.predict( x=train_data, batch_size=100, as_iterable=True)\n",
    "\n",
    "#for p in predictions:\n",
    "#    print(p)\n",
    "#    break\n",
    "\n",
    "train_data_logits = np.array( [ p['logits'] for p in predictions ])\n",
    "train_data_logits.shape"
   ]
  },
  {
   "cell_type": "code",
   "execution_count": null,
   "metadata": {
    "collapsed": false
   },
   "outputs": [],
   "source": [
    "# So, let's build an autoencoder 'regression' model with a hidden layer with input/2 units \n",
    "\n",
    "def autoencoder_model_fn(features, labels, mode):\n",
    "  #print(\"features.shape\", features.get_shape())\n",
    "  #dim = features.get_shape()[1]\n",
    "  dim = 10\n",
    "\n",
    "  # Input Layer\n",
    "  input_layer = tf.reshape(features, [-1, dim])\n",
    "\n",
    "  # Encoder Dense Layer\n",
    "  # Densely connected layer with size/2 neurons\n",
    "  # Input Tensor Shape: [batch_size, 10]\n",
    "  # Output Tensor Shape: [batch_size, 10/2]\n",
    "  dense = tf.layers.dense(inputs=input_layer, units=dim, activation=tf.nn.relu)\n",
    "\n",
    "  # Add dropout operation; 0.6 probability that element will be kept\n",
    "  #dropout = tf.layers.dropout(\n",
    "  #    inputs=dense, rate=0.9, training=mode == learn.ModeKeys.TRAIN)\n",
    "\n",
    "  # Decoder Dense Layer\n",
    "  # Input Tensor Shape: [batch_size, 10/2]\n",
    "  # Output Tensor Shape: [batch_size, 10]\n",
    "  #output_layer = tf.layers.dense(inputs=dropout, units=dim)\n",
    "  output_layer = tf.layers.dense(inputs=dense, units=dim)  # Linear activation\n",
    "\n",
    "  loss = None\n",
    "  train_op = None\n",
    "\n",
    "  ## Calculate Loss (for both TRAIN and EVAL modes)\n",
    "  #if mode != learn.ModeKeys.INFER:\n",
    "  #  loss = tf.losses.mean_squared_error( input_layer, output_layer )\n",
    "\n",
    "  loss = tf.losses.mean_squared_error( input_layer, output_layer )\n",
    "\n",
    "  # Configure the Training Op (for TRAIN mode)\n",
    "  if mode == learn.ModeKeys.TRAIN:\n",
    "    train_op = tf.contrib.layers.optimize_loss(\n",
    "        loss=loss,\n",
    "        global_step=tf.contrib.framework.get_global_step(),\n",
    "        learning_rate=0.001,\n",
    "        optimizer=\"Adam\")\n",
    "\n",
    "  # Generate Predictions\n",
    "  predictions = {\n",
    "      \"rmse\": loss,\n",
    "  }\n",
    "\n",
    "  # Return a ModelFnOps object\n",
    "  return model_fn_lib.ModelFnOps(\n",
    "      mode=mode, predictions=predictions, loss=loss, train_op=train_op)"
   ]
  },
  {
   "cell_type": "code",
   "execution_count": null,
   "metadata": {
    "collapsed": false
   },
   "outputs": [],
   "source": [
    "mnist_autoencoder = learn.Estimator(\n",
    "      model_fn=autoencoder_model_fn, model_dir=\"mnist_model/autoencoder\")"
   ]
  },
  {
   "cell_type": "code",
   "execution_count": null,
   "metadata": {
    "collapsed": false
   },
   "outputs": [],
   "source": [
    "# Set up logging for predictions\n",
    "# Log the values in the \"Softmax\" tensor with label \"probabilities\"\n",
    "#tensors_to_log = {\"probabilities\": \"softmax_tensor\"}\n",
    "#logging_hook = tf.train.LoggingTensorHook( tensors=tensors_to_log, every_n_iter=50 )\n",
    "\n",
    "# Train the model\n",
    "mnist_autoencoder.fit(\n",
    "  x=train_data_logits,\n",
    "  y=train_data_logits,\n",
    "  batch_size=100,\n",
    "  steps=50000/100 * 50,\n",
    "#  steps=20000,\n",
    "#  monitors=[logging_hook]\n",
    ")"
   ]
  },
  {
   "cell_type": "markdown",
   "metadata": {},
   "source": [
    "*  INFO:tensorflow:Saving checkpoints for 25000 into mnist_model/autoencoder/model.ckpt.\n",
    "*  INFO:tensorflow:Loss for final step: 1.2686.\n"
   ]
  },
  {
   "cell_type": "code",
   "execution_count": null,
   "metadata": {
    "collapsed": true
   },
   "outputs": [],
   "source": []
  }
 ],
 "metadata": {
  "kernelspec": {
   "display_name": "Python 3",
   "language": "python",
   "name": "python3"
  },
  "language_info": {
   "codemirror_mode": {
    "name": "ipython",
    "version": 3
   },
   "file_extension": ".py",
   "mimetype": "text/x-python",
   "name": "python",
   "nbconvert_exporter": "python",
   "pygments_lexer": "ipython3",
   "version": "3.5.2"
  }
 },
 "nbformat": 4,
 "nbformat_minor": 2
}