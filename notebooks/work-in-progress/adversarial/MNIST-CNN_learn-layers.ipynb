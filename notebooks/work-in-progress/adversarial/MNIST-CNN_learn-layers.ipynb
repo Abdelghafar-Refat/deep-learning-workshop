{
 "cells": [
  {
   "cell_type": "code",
   "execution_count": 1,
   "metadata": {
    "collapsed": true,
    "deletable": true,
    "editable": true
   },
   "outputs": [],
   "source": [
    "#  Copyright 2016 The TensorFlow Authors. All Rights Reserved.\n",
    "#\n",
    "#  Licensed under the Apache License, Version 2.0 (the \"License\");\n",
    "#  you may not use this file except in compliance with the License.\n",
    "#  You may obtain a copy of the License at\n",
    "#\n",
    "#   http://www.apache.org/licenses/LICENSE-2.0\n",
    "#\n",
    "#  Unless required by applicable law or agreed to in writing, software\n",
    "#  distributed under the License is distributed on an \"AS IS\" BASIS,\n",
    "#  WITHOUT WARRANTIES OR CONDITIONS OF ANY KIND, either express or implied.\n",
    "#  See the License for the specific language governing permissions and\n",
    "#  limitations under the License.\n",
    "\n",
    "#  FROM : https://www.tensorflow.org/tutorials/layers#building_the_cnn_mnist_classifier\n",
    "#  CODE : https://www.tensorflow.org/code/tensorflow/examples/tutorials/layers/cnn_mnist.py\n",
    "\n",
    "\"\"\"Convolutional Neural Network Estimator for MNIST, built with tf.layers.\"\"\"\n",
    "\n",
    "from __future__ import absolute_import\n",
    "from __future__ import division\n",
    "from __future__ import print_function\n",
    "\n",
    "import numpy as np\n",
    "import tensorflow as tf\n",
    "\n",
    "from tensorflow.contrib import learn\n",
    "from tensorflow.contrib.learn.python.learn.estimators import model_fn as model_fn_lib\n",
    "\n",
    "tf.logging.set_verbosity(tf.logging.INFO)"
   ]
  },
  {
   "cell_type": "code",
   "execution_count": 2,
   "metadata": {
    "collapsed": false
   },
   "outputs": [],
   "source": [
    "print('Tensorflow:',tf.__version__)\n",
    "import sys\n",
    "print(sys.version)"
   ]
  },
  {
   "cell_type": "code",
   "execution_count": 35,
   "metadata": {
    "collapsed": true,
    "deletable": true,
    "editable": true
   },
   "outputs": [],
   "source": [
    "def cnn_model_fn(features, labels, mode):\n",
    "  \"\"\"Model function for CNN.\"\"\"\n",
    "  # Input Layer\n",
    "  # Reshape X to 4-D tensor: [batch_size, width, height, channels]\n",
    "  # MNIST images are 28x28 pixels, and have one color channel\n",
    "  input_layer = tf.reshape(features, [-1, 28, 28, 1])\n",
    "\n",
    "  # Convolutional Layer #1\n",
    "  # Computes 32 features using a 5x5 filter with ReLU activation.\n",
    "  # Padding is added to preserve width and height.\n",
    "  # Input Tensor Shape: [batch_size, 28, 28, 1]\n",
    "  # Output Tensor Shape: [batch_size, 28, 28, 32]\n",
    "  conv1 = tf.layers.conv2d(\n",
    "      inputs=input_layer,\n",
    "      filters=32,\n",
    "      kernel_size=[5, 5],\n",
    "      padding=\"same\",\n",
    "      activation=tf.nn.relu)\n",
    "\n",
    "  # Pooling Layer #1\n",
    "  # First max pooling layer with a 2x2 filter and stride of 2\n",
    "  # Input Tensor Shape: [batch_size, 28, 28, 32]\n",
    "  # Output Tensor Shape: [batch_size, 14, 14, 32]\n",
    "  pool1 = tf.layers.max_pooling2d(inputs=conv1, pool_size=[2, 2], strides=2)\n",
    "\n",
    "  # Convolutional Layer #2\n",
    "  # Computes 64 features using a 5x5 filter.\n",
    "  # Padding is added to preserve width and height.\n",
    "  # Input Tensor Shape: [batch_size, 14, 14, 32]\n",
    "  # Output Tensor Shape: [batch_size, 14, 14, 64]\n",
    "  conv2 = tf.layers.conv2d(\n",
    "      inputs=pool1,\n",
    "      filters=64,\n",
    "      kernel_size=[5, 5],\n",
    "      padding=\"same\",\n",
    "      activation=tf.nn.relu)\n",
    "\n",
    "  # Pooling Layer #2\n",
    "  # Second max pooling layer with a 2x2 filter and stride of 2\n",
    "  # Input Tensor Shape: [batch_size, 14, 14, 64]\n",
    "  # Output Tensor Shape: [batch_size, 7, 7, 64]\n",
    "  pool2 = tf.layers.max_pooling2d(inputs=conv2, pool_size=[2, 2], strides=2)\n",
    "\n",
    "  # Flatten tensor into a batch of vectors\n",
    "  # Input Tensor Shape: [batch_size, 7, 7, 64]\n",
    "  # Output Tensor Shape: [batch_size, 7 * 7 * 64]\n",
    "  pool2_flat = tf.reshape(pool2, [-1, 7 * 7 * 64])\n",
    "\n",
    "  # Dense Layer\n",
    "  # Densely connected layer with 1024 neurons\n",
    "  # Input Tensor Shape: [batch_size, 7 * 7 * 64]\n",
    "  # Output Tensor Shape: [batch_size, 1024]\n",
    "  dense = tf.layers.dense(inputs=pool2_flat, units=1024, activation=tf.nn.relu)\n",
    "\n",
    "  # Add dropout operation; 0.6 probability that element will be kept\n",
    "  dropout = tf.layers.dropout(\n",
    "      inputs=dense, rate=0.4, training=mode == learn.ModeKeys.TRAIN)\n",
    "\n",
    "  # Logits layer\n",
    "  # Input Tensor Shape: [batch_size, 1024]\n",
    "  # Output Tensor Shape: [batch_size, 10]\n",
    "  logits = tf.layers.dense(inputs=dropout, units=10)\n",
    "  #logits = tf.layers.dense(inputs=dense, units=10)\n",
    "\n",
    "  loss = None\n",
    "  train_op = None\n",
    "\n",
    "  # Calculate Loss (for both TRAIN and EVAL modes)\n",
    "  if mode != learn.ModeKeys.INFER:\n",
    "    onehot_labels = tf.one_hot(indices=tf.cast(labels, tf.int32), depth=10)\n",
    "    loss = tf.losses.softmax_cross_entropy(onehot_labels=onehot_labels, logits=logits)\n",
    "\n",
    "  # Configure the Training Op (for TRAIN mode)\n",
    "  if mode == learn.ModeKeys.TRAIN:\n",
    "    train_op = tf.contrib.layers.optimize_loss(\n",
    "        loss=loss,\n",
    "        global_step=tf.contrib.framework.get_global_step(),\n",
    "        learning_rate=0.001,\n",
    "        #optimizer=\"SGD\")\n",
    "        optimizer=\"Adam\")\n",
    "\n",
    "  # Generate Predictions\n",
    "  predictions = {\n",
    "      \"classes\":       tf.argmax(input=logits, axis=1),\n",
    "      \"probabilities\": tf.nn.softmax(logits, name=\"softmax_tensor\"), \n",
    "      \"logits\":        logits,\n",
    "      \"gradient\":      tf.gradients(loss, input_layer),\n",
    "  }\n",
    "\n",
    "  # Return a ModelFnOps object\n",
    "  return model_fn_lib.ModelFnOps(\n",
    "      mode=mode, predictions=predictions, loss=loss, train_op=train_op)"
   ]
  },
  {
   "cell_type": "code",
   "execution_count": 36,
   "metadata": {
    "collapsed": false,
    "deletable": true,
    "editable": true
   },
   "outputs": [],
   "source": [
    "# Load training and eval data\n",
    "mnist = learn.datasets.load_dataset(\"mnist\")\n",
    "\n",
    "train_data   = mnist.train.images  # Returns np.array\n",
    "train_labels = np.asarray(mnist.train.labels, dtype=np.int32)\n",
    "\n",
    "eval_data    = mnist.test.images  # Returns np.array\n",
    "eval_labels  = np.asarray(mnist.test.labels, dtype=np.int32)\n",
    "\n",
    "eval_labels[7]"
   ]
  },
  {
   "cell_type": "code",
   "execution_count": 37,
   "metadata": {
    "collapsed": false,
    "deletable": true,
    "editable": true
   },
   "outputs": [],
   "source": [
    "# Create the Estimator : https://www.tensorflow.org/extend/estimators\n",
    "import os\n",
    "this_dir = os.getcwd()\n",
    "\n",
    "mnist_classifier = learn.Estimator(\n",
    "      model_fn=cnn_model_fn, model_dir=\"mnist_convnet_model\")  # This is relative to the ipynb\n",
    "      #model_fn=cnn_model_fn, model_dir=os.path.join(this_dir, \"mnist_convnet_model\"))  # This is system-absolute\n",
    "\n",
    "# NB :  Check the checkpoints file in 'mnist_convnet_model has filenames that are in same directory"
   ]
  },
  {
   "cell_type": "code",
   "execution_count": 38,
   "metadata": {
    "collapsed": false
   },
   "outputs": [],
   "source": [
    "mnist_classifier.get_variable_names()\n",
    "#mnist_classifier.get_variable_value('conv2d/bias')"
   ]
  },
  {
   "cell_type": "code",
   "execution_count": null,
   "metadata": {
    "collapsed": false,
    "deletable": true,
    "editable": true,
    "scrolled": false
   },
   "outputs": [],
   "source": [
    "# Set up logging for predictions\n",
    "# Log the values in the \"Softmax\" tensor with label \"probabilities\"\n",
    "tensors_to_log = {\"probabilities\": \"softmax_tensor\"}\n",
    "logging_hook = tf.train.LoggingTensorHook( tensors=tensors_to_log, every_n_iter=50 )\n",
    "\n",
    "# Train the model\n",
    "mnist_classifier.fit(\n",
    "  x=train_data,\n",
    "  y=train_labels,\n",
    "  batch_size=100,\n",
    "  steps=50000/100 * 5,\n",
    "#  steps=20000,\n",
    "#  monitors=[logging_hook]\n",
    ")"
   ]
  },
  {
   "cell_type": "code",
   "execution_count": null,
   "metadata": {
    "collapsed": true,
    "deletable": true,
    "editable": true
   },
   "outputs": [],
   "source": [
    "#mnist_classifier.save()"
   ]
  },
  {
   "cell_type": "code",
   "execution_count": null,
   "metadata": {
    "collapsed": false,
    "deletable": true,
    "editable": true
   },
   "outputs": [],
   "source": [
    "# Configure the accuracy metric for evaluation\n",
    "cnn_metrics = {\n",
    "  \"accuracy\":\n",
    "      learn.MetricSpec(\n",
    "          metric_fn=tf.metrics.accuracy, prediction_key=\"classes\"),\n",
    "}\n",
    "\n",
    "# Evaluate the model and print results\n",
    "cnn_eval_results = mnist_classifier.evaluate( x=eval_data, y=eval_labels, metrics=cnn_metrics)\n",
    "\n",
    "print(cnn_eval_results)"
   ]
  },
  {
   "cell_type": "markdown",
   "metadata": {
    "collapsed": true,
    "deletable": true,
    "editable": true
   },
   "source": [
    "Ok, so the built Estimator gets 99.26% accuracy on the test set in <20 secs on CPU.\n",
    "\n",
    "### Next Steps\n",
    "\n",
    "Let's :\n",
    "\n",
    "*  go through the training set and store the logits for [the valid?] ALL the numbers;\n",
    "\n",
    "*  build an AutoEncoder on the logits, which minimises reconstruction error;\n",
    "\n",
    "*  histogram the reconstruction error to find a bound above which we can reject an input image;\n",
    "\n",
    "*  create adversarial examples that fool the original Estimator;\n",
    "\n",
    "*  check that the adversarial examples score outside the bound;\n",
    "\n",
    "*  attempt to create adversarial examples on an updated network that includes the autoencoder bound as a gating function on the rest of the outputs;\n",
    "\n",
    "*  create an infoGAN network for MNIST that allows us to create digits that are 'between' two classes;\n",
    "\n",
    "*  score the reconstruction error of the between images to look at the rejection regions (which hopefully isolate the islands of acceptance from one another)\n",
    "\n",
    "\n"
   ]
  },
  {
   "cell_type": "markdown",
   "metadata": {
    "collapsed": true
   },
   "source": [
    "#### Get logit representation for all training examples\n"
   ]
  },
  {
   "cell_type": "code",
   "execution_count": 6,
   "metadata": {
    "collapsed": false
   },
   "outputs": [],
   "source": [
    "# Evaluate the model and gather the results\n",
    "predictions = mnist_classifier.predict( x=train_data, batch_size=100, as_iterable=True)\n",
    "\n",
    "#for p in predictions:\n",
    "#    print(p)\n",
    "#    break\n",
    "\n",
    "train_data_logits = np.array( [ p['logits'] for p in predictions ])\n",
    "\n",
    "predictions = mnist_classifier.predict( x=eval_data, batch_size=100, as_iterable=True)\n",
    "eval_data_logits  = np.array( [ p['logits'] for p in predictions ])\n",
    "\n",
    "train_data_logits.shape, eval_data_logits.shape"
   ]
  },
  {
   "cell_type": "code",
   "execution_count": 16,
   "metadata": {
    "collapsed": false
   },
   "outputs": [],
   "source": [
    "# Predictions take ~ 60secs\n",
    "\n",
    "# So, let's build an autoencoder 'regression' model with a hidden layer with input/2 units \n",
    "\n",
    "def autoencoder_model_fn(features, labels, mode):\n",
    "  #print(\"features.shape\", features.get_shape())\n",
    "  #dim = features.get_shape()[1]\n",
    "  dim = 10\n",
    "\n",
    "  # Input Layer\n",
    "  input_layer = tf.reshape(features, [-1, dim])\n",
    "\n",
    "  # Encoder Dense Layer\n",
    "  # Densely connected layer with size/2 neurons\n",
    "  # Input Tensor Shape: [batch_size, 10]\n",
    "  # Output Tensor Shape: [batch_size, 10/2]\n",
    "  #dense = tf.layers.dense(inputs=input_layer, units=dim, activation=tf.nn.relu)\n",
    "  dense = tf.layers.dense(inputs=input_layer, units=dim, activation=tf.nn.elu)  # ELU!\n",
    "\n",
    "  # Add dropout operation; 0.6 probability that element will be kept\n",
    "  #dropout = tf.layers.dropout(\n",
    "  #    inputs=dense, rate=0.9, training=mode == learn.ModeKeys.TRAIN)\n",
    "\n",
    "  # Decoder Dense Layer\n",
    "  # Input Tensor Shape: [batch_size, 10/2]\n",
    "  # Output Tensor Shape: [batch_size, 10]\n",
    "  #output_layer = tf.layers.dense(inputs=dropout, units=dim)\n",
    "  output_layer = tf.layers.dense(inputs=dense, units=dim)  # Linear activation\n",
    "\n",
    "  loss = None\n",
    "  train_op = None\n",
    "\n",
    "  ## Calculate Loss (for both TRAIN and EVAL modes)\n",
    "  #if mode != learn.ModeKeys.INFER:\n",
    "  #  loss = tf.losses.mean_squared_error( input_layer, output_layer )\n",
    "\n",
    "  loss = tf.losses.mean_squared_error( output_layer, labels )\n",
    "\n",
    "  # Configure the Training Op (for TRAIN mode)\n",
    "  if mode == learn.ModeKeys.TRAIN:\n",
    "    train_op = tf.contrib.layers.optimize_loss(\n",
    "        loss=loss,\n",
    "        global_step=tf.contrib.framework.get_global_step(),\n",
    "        learning_rate=0.001,\n",
    "        optimizer=\"Adam\")\n",
    "\n",
    "  # Generate Predictions\n",
    "  predictions = {\n",
    "      \"rmse\": loss,\n",
    "      \"regenerated\":output_layer, \n",
    "      \"gradient\": tf.gradients(loss, input_layer),\n",
    "  }\n",
    "\n",
    "  # Return a ModelFnOps object\n",
    "  return model_fn_lib.ModelFnOps(\n",
    "      mode=mode, predictions=predictions, loss=loss, train_op=train_op)"
   ]
  },
  {
   "cell_type": "code",
   "execution_count": 17,
   "metadata": {
    "collapsed": false
   },
   "outputs": [],
   "source": [
    "mnist_autoencoder = learn.Estimator(\n",
    "      model_fn=autoencoder_model_fn, model_dir=\"mnist_model/autoencoder\")"
   ]
  },
  {
   "cell_type": "code",
   "execution_count": 9,
   "metadata": {
    "collapsed": false
   },
   "outputs": [],
   "source": [
    "# Set up logging for predictions\n",
    "# Log the values in the \"Softmax\" tensor with label \"probabilities\"\n",
    "#tensors_to_log = {\"probabilities\": \"softmax_tensor\"}\n",
    "#logging_hook = tf.train.LoggingTensorHook( tensors=tensors_to_log, every_n_iter=50 )\n",
    "\n",
    "# Train the model\n",
    "mnist_autoencoder.fit(\n",
    "  x=train_data_logits,\n",
    "  y=train_data_logits,\n",
    "  batch_size=100,\n",
    "  steps=50000/100 * 10,\n",
    "#  steps=20000,\n",
    "#  monitors=[logging_hook]\n",
    ")"
   ]
  },
  {
   "cell_type": "markdown",
   "metadata": {},
   "source": [
    "*  n/2 hidden INFO:tensorflow:Saving checkpoints for 25000 into mnist_model/autoencoder/model.ckpt.\n",
    "*  n/2 hidden INFO:tensorflow:Loss for final step: 1.2686.\n",
    "\n",
    "*  2xReLU INFO:tensorflow:Saving checkpoints for 25000 into mnist_model/autoencoder/model.ckpt.\n",
    "*  2xReLU INFO:tensorflow:Loss for final step: 1.47784e-05.\n",
    "\n",
    "*  ELU+ReLU INFO:tensorflow:Saving checkpoints for 5000 into mnist_model/autoencoder/model.ckpt.\n",
    "*  ELU+ReLU INFO:tensorflow:Loss for final step: 0.00331942."
   ]
  },
  {
   "cell_type": "code",
   "execution_count": 10,
   "metadata": {
    "collapsed": false
   },
   "outputs": [],
   "source": [
    "# Configure the accuracy metric for evaluation\n",
    "auto_metrics = {\n",
    "  \"loss\":learn.MetricSpec(metric_fn=tf.metrics.mean_squared_error, prediction_key=\"regenerated\"),\n",
    "}\n",
    "\n",
    "# Evaluate the model and print results\n",
    "autoencoder_eval_results = mnist_autoencoder.evaluate( x=eval_data_logits, y=eval_data_logits, metrics=auto_metrics)\n",
    "\n",
    "print(autoencoder_eval_results)"
   ]
  },
  {
   "cell_type": "markdown",
   "metadata": {},
   "source": [
    "*   {'loss': 2.3425782e-05, 'global_step': 13001} => This autoenoder thing works\n",
    "\n",
    "Let's now create (some) adversarial digits for MNIST\n"
   ]
  },
  {
   "cell_type": "code",
   "execution_count": 11,
   "metadata": {
    "collapsed": false
   },
   "outputs": [],
   "source": [
    "train_offset = 17\n",
    "# train_data[train_offset]  # This is a flat numpy array with an image in it\n",
    "#train_labels[train_offset]  # This the digit label for that image\n",
    "\n",
    "image_orig = train_data[train_offset]"
   ]
  },
  {
   "cell_type": "code",
   "execution_count": 14,
   "metadata": {
    "collapsed": false
   },
   "outputs": [],
   "source": [
    "#class_predictions = mnist_classifier.predict( x=np.array([image_orig]), batch_size=1, as_iterable=False)\n",
    "class_predictions = mnist_classifier.predict( x=image_orig, as_iterable=False)\n",
    "class_predictions['probabilities'][0]\n",
    "\n",
    "#class_predictions = mnist_classifier.predict( x=image_orig, outputs=['probabilities'], as_iterable=False)\n",
    "#class_predictions"
   ]
  },
  {
   "cell_type": "markdown",
   "metadata": {},
   "source": [
    "### Intuition behind 'gradient' for explicit inception version ..."
   ]
  },
  {
   "cell_type": "code",
   "execution_count": null,
   "metadata": {
    "collapsed": true
   },
   "outputs": [],
   "source": [
    "## Set the graph for the Inception model as the default graph,\n",
    "## so that all changes inside this with-block are done to that graph.\n",
    "#with model.graph.as_default():\n",
    "#    # Add a placeholder variable for the target class-number.\n",
    "#    # This will be set to e.g. 300 for the 'bookcase' class.\n",
    "#    pl_cls_target = tf.placeholder(dtype=tf.int32)\n",
    "#\n",
    "#    # Add a new loss-function. This is the cross-entropy.\n",
    "#    # See Tutorial #01 for an explanation of cross-entropy.\n",
    "#    loss = tf.nn.sparse_softmax_cross_entropy_with_logits(logits=y_logits, labels=[pl_cls_target])\n",
    "#\n",
    "#    # Get the gradient for the loss-function with regard to\n",
    "#    # the resized input image.\n",
    "#    gradient = tf.gradients(loss, resized_image)"
   ]
  },
  {
   "cell_type": "code",
   "execution_count": 39,
   "metadata": {
    "collapsed": false
   },
   "outputs": [],
   "source": [
    "# Configure the accuracy metric for evaluation\n",
    "def metric_first_value(predictions, labels):\n",
    "    return predictions[0]\n",
    "\n",
    "model_gradient = {\n",
    "#  \"gradient\":learn.MetricSpec(metric_fn=tf.metrics.mean, weight_key=None, prediction_key=\"gradient\"),\n",
    "  \"gradient\":learn.MetricSpec(metric_fn=metric_first_value, prediction_key=\"gradient\"),\n",
    "}\n",
    "\n",
    "# Evaluate the model and print results\n",
    "cnn_gradient = mnist_classifier.evaluate( x=np.array([image_orig]), y=np.array([7], dtype='int'), metrics=model_gradient)\n",
    "#cnn_gradient = mnist_classifier.evaluate( x=image_orig, y=np.int32(7), metrics=model_gradient)\n",
    "\n",
    "cnn_gradient.shape"
   ]
  },
  {
   "cell_type": "code",
   "execution_count": null,
   "metadata": {
    "collapsed": true
   },
   "outputs": [],
   "source": [
    "def find_adversary_noise(image_np, cls_target, model, noise_limit=3.0, required_score=0.99, max_iterations=50):\n",
    "    \"\"\"\n",
    "    Find the noise that must be added to the given image so\n",
    "    that it is classified as the target-class by the given model.\n",
    "    \n",
    "    image_np: numpy image in correct format\n",
    "    cls_target: Target class-number (integer between 0-n_classes).\n",
    "    noise_limit: Limit for pixel-values in the noise.\n",
    "    required_score: Stop when target-class score reaches this.\n",
    "    max_iterations: Max number of optimization iterations to perform.\n",
    "    \"\"\"\n",
    "\n",
    "    # Create a feed-dict with the image.\n",
    "    #feed_dict = model._create_feed_dict(image_path=image_path)\n",
    "\n",
    "    # Use TensorFlow to calculate the predicted class-scores\n",
    "    # (aka. probabilities) as well as the resized image.\n",
    "    #pred, image = session.run([y_pred, resized_image], feed_dict=feed_dict)\n",
    "    pred_all = model.predict( x=image_np, as_iterable=False)\n",
    "\n",
    "    # Convert to one-dimensional array.\n",
    "    #pred = np.squeeze(pred)\n",
    "    pred = pred_all['probabilities'][0]\n",
    "\n",
    "    # Predicted class-number.\n",
    "    cls_source = np.argmax(pred)\n",
    "\n",
    "    # Score for the predicted class (aka. probability or confidence).\n",
    "    score_source_org = pred.max()\n",
    "\n",
    "    # Names for the source and target classes.\n",
    "    #name_source = model.name_lookup.cls_to_name(cls_source, only_first_name=True)\n",
    "    #name_target = model.name_lookup.cls_to_name(cls_target, only_first_name=True)\n",
    "\n",
    "    # Initialize the noise to zero.\n",
    "    noise = 0.\n",
    "\n",
    "    # Perform a number of optimization iterations to find\n",
    "    # the noise that causes mis-classification of the input image.\n",
    "    for i in range(max_iterations):\n",
    "        print(\"Iteration:\", i)\n",
    "\n",
    "        # The noisy image is just the sum of the input image and noise.\n",
    "        noisy_image = image + noise\n",
    "        \n",
    "        #print(noisy_image.shape)\n",
    "        #save image\n",
    "        #scipy.misc.imsave('./images/noisy-processing.jpg', noisy_image)\n",
    "        #test_noisy_image = noisy_image\n",
    "\n",
    "        # Ensure the pixel-values of the noisy image are between\n",
    "        # 0 and 255 like a real image. If we allowed pixel-values\n",
    "        # outside this range then maybe the mis-classification would\n",
    "        # be due to this 'illegal' input breaking the Inception model.\n",
    "        noisy_image = np.clip(a=noisy_image, a_min=0.0, a_max=255.0)\n",
    "        \n",
    "        #test_noisy_image = noisy_image\n",
    "        #print(noisy_image)\n",
    "\n",
    "        # Create a feed-dict. This feeds the noisy image to the\n",
    "        # tensor in the graph that holds the resized image, because\n",
    "        # this is the final stage for inputting raw image data.\n",
    "        # This also feeds the target class-number that we desire.\n",
    "        feed_dict = {model.tensor_name_resized_image: noisy_image, pl_cls_target: cls_target}\n",
    "\n",
    "        # Calculate the predicted class-scores as well as the gradient.\n",
    "        pred, grad = session.run([y_pred, gradient], feed_dict=feed_dict)\n",
    "        \n",
    "        pred_true = pred\n",
    "        print(pred_true[0][409])\n",
    "        #for i in range(0,1000):\n",
    "        #    if pred_true[0][i] > 0.005:\n",
    "        #        print('close to class '+str(i)+' which is' + model.name_lookup.cls_to_name(i, only_first_name=True))\n",
    "              \n",
    "        #scipy.misc.imsave('temp-image.jpg', noisy_image[0])\n",
    "        new_noisy_image = cv2.cvtColor(noisy_image[0], cv2.COLOR_BGR2RGB)\n",
    "        cv2.imwrite('./images/noisy_image-temp.jpg',new_noisy_image)\n",
    "\n",
    "        pred2 = model.classify('./images/noisy_image-temp.jpg')\n",
    "        model.print_scores(pred=pred2, k=10, only_first_name=True) \n",
    "\n",
    "        # Convert the predicted class-scores to a one-dim array.\n",
    "        pred = np.squeeze(pred)\n",
    "\n",
    "        # The scores (probabilities) for the source and target classes.\n",
    "        score_source = pred[cls_source]\n",
    "        score_target = pred[cls_target]\n",
    "\n",
    "        # Squeeze the dimensionality for the gradient-array.\n",
    "        grad = np.array(grad).squeeze()\n",
    "\n",
    "        # The gradient now tells us how much we need to change the\n",
    "        # noisy input image in order to move the predicted class\n",
    "        # closer to the desired target-class.\n",
    "\n",
    "        # Calculate the max of the absolute gradient values.\n",
    "        # This is used to calculate the step-size.\n",
    "        grad_absmax = np.abs(grad).max()\n",
    "        \n",
    "        # If the gradient is very small then use a lower limit,\n",
    "        # because we will use it as a divisor.\n",
    "        if grad_absmax < 1e-10:\n",
    "            grad_absmax = 1e-10\n",
    "\n",
    "        # Calculate the step-size for updating the image-noise.\n",
    "        # This ensures that at least one pixel colour is changed by 7.\n",
    "        # Recall that pixel colours can have 255 different values.\n",
    "        # This step-size was found to give fast convergence.\n",
    "        step_size = 7 / grad_absmax\n",
    "\n",
    "        # Print the score etc. for the source-class.\n",
    "        msg = \"Source score: {0:>7.2%}, class-number: {1:>4}, class-name: {2}\"\n",
    "        print(msg.format(score_source, cls_source, name_source))\n",
    "\n",
    "        # Print the score etc. for the target-class.\n",
    "        msg = \"Target score: {0:>7.2%}, class-number: {1:>4}, class-name: {2}\"\n",
    "        print(msg.format(score_target, cls_target, name_target))\n",
    "\n",
    "        # Print statistics for the gradient.\n",
    "        msg = \"Gradient min: {0:>9.6f}, max: {1:>9.6f}, stepsize: {2:>9.2f}\"\n",
    "        print(msg.format(grad.min(), grad.max(), step_size))\n",
    "        \n",
    "        #for i in pred_true:\n",
    "        #    if pred_true[i] > 0.9:\n",
    "        #        print(i + ' = ' + \"hi\")\n",
    "        #print(pred_true[0])\n",
    "        \n",
    "        #save image\n",
    "        #new_noisy_image = cv2.cvtColor(noisy_image, cv2.COLOR_BGR2RGB)\n",
    "        #new_normal_image = cv2.cvtColor(image, cv2.COLOR_BGR2RGB)\n",
    "        #cv2.imwrite('./images/noisy_image-processing.jpg',new_noisy_image)\n",
    "        #cv2.imwrite('./images/normal_image.jpg',new_normal_image)\n",
    "\n",
    "        # Newline.\n",
    "        print()\n",
    "        noisy_image = np.clip(a=noisy_image, a_min=0.0, a_max=255.0)\n",
    "        \n",
    "        \n",
    "        # If the score for the target-class is not high enough.\n",
    "        if score_target < required_score:\n",
    "            # Update the image-noise by subtracting the gradient\n",
    "            # scaled by the step-size.\n",
    "            noise -= step_size * grad\n",
    "\n",
    "            # Ensure the noise is within the desired range.\n",
    "            # This avoids distorting the image too much.\n",
    "            noise = np.clip(a=noise,\n",
    "                            a_min=-noise_limit,\n",
    "                            a_max=noise_limit)\n",
    "        else:\n",
    "            # Abort the optimization because the score is high enough.\n",
    "            break\n",
    "\n",
    "    return image.squeeze(), noisy_image.squeeze(), noise, \\\n",
    "           name_source, name_target, \\\n",
    "           score_source, score_source_org, score_target"
   ]
  },
  {
   "cell_type": "code",
   "execution_count": null,
   "metadata": {
    "collapsed": true
   },
   "outputs": [],
   "source": [
    "# tf.getDefaultGraph().finalize()"
   ]
  },
  {
   "cell_type": "code",
   "execution_count": null,
   "metadata": {
    "collapsed": true
   },
   "outputs": [],
   "source": []
  }
 ],
 "metadata": {
  "kernelspec": {
   "display_name": "Python 3",
   "language": "python",
   "name": "python3"
  },
  "language_info": {
   "codemirror_mode": {
    "name": "ipython",
    "version": 3
   },
   "file_extension": ".py",
   "mimetype": "text/x-python",
   "name": "python",
   "nbconvert_exporter": "python",
   "pygments_lexer": "ipython3",
   "version": "3.5.2"
  }
 },
 "nbformat": 4,
 "nbformat_minor": 2
}