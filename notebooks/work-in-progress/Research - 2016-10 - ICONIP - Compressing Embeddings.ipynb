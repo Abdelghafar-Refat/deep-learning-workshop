{
 "cells": [
  {
   "cell_type": "markdown",
   "metadata": {},
   "source": [
    "## Compressing Word Embeddings\n",
    "\n",
    "Downloadable version of GloVe embedding (with fallback source).\n",
    "\n",
    "Probably best to include instructions for Levy test-suite installation, so that any given embedding can be tested.\n",
    "\n",
    "Then require two main sections : \n",
    " \n",
    "*  Lloyd embedding generation\n",
    "\n",
    "*  Sparsified embedding generation\n",
    "\n",
    "Include downloadable version of sparsified GloVe embedding from own hosting.\n",
    "\n",
    "And functions/tools to play with the loaded embedding (of whatever type)."
   ]
  },
  {
   "cell_type": "code",
   "execution_count": null,
   "metadata": {
    "collapsed": true
   },
   "outputs": [],
   "source": []
  }
 ],
 "metadata": {
  "kernelspec": {
   "display_name": "Python 2",
   "language": "python",
   "name": "python2"
  },
  "language_info": {
   "codemirror_mode": {
    "name": "ipython",
    "version": 2
   },
   "file_extension": ".py",
   "mimetype": "text/x-python",
   "name": "python",
   "nbconvert_exporter": "python",
   "pygments_lexer": "ipython2",
   "version": "2.7.11"
  }
 },
 "nbformat": 4,
 "nbformat_minor": 0
}