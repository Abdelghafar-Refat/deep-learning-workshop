{
 "cells": [
  {
   "cell_type": "markdown",
   "metadata": {},
   "source": [
    "# Demo of JS &harr; Python communication"
   ]
  },
  {
   "cell_type": "code",
   "execution_count": 6,
   "metadata": {
    "collapsed": true
   },
   "outputs": [],
   "source": [
    "from IPython.display import HTML"
   ]
  },
  {
   "cell_type": "code",
   "execution_count": 7,
   "metadata": {
    "collapsed": false
   },
   "outputs": [],
   "source": [
    "js=\"\"\"\n",
    "//alert(\"Hello Javascript (created in python string\")\n",
    "\n",
    "// Lots of pre-written stuff could go here\n",
    "\n",
    "\n",
    "\"\"\"\n",
    "\n",
    "# This is Python, printing out the javascript into the browser window\n",
    "HTML('<script type=\"text/Javascript\">%s</script>' % (js,))\n",
    "\n",
    "# Nothing will appear be 'output'"
   ]
  },
  {
   "cell_type": "markdown",
   "metadata": {},
   "source": [
    "### Create some HTML placeholders"
   ]
  },
  {
   "cell_type": "code",
   "execution_count": 9,
   "metadata": {
    "collapsed": false
   },
   "outputs": [],
   "source": [
    "html=\"\"\"\n",
    "<input type=\"text\" id=\"textinput\" value=\"12\"/>\n",
    "<input type=\"submit\">\n",
    "\"\"\"\n",
    "\n",
    "# This is Python, printing out the javascript into the browser window\n",
    "HTML(html)"
   ]
  },
  {
   "cell_type": "markdown",
   "metadata": {},
   "source": [
    "### Create a Python function and Hook up the interactivity"
   ]
  },
  {
   "cell_type": "code",
   "execution_count": 10,
   "metadata": {
    "collapsed": false
   },
   "outputs": [],
   "source": [
    "def recalculate_cell(v):\n",
    "    if v % 2 == 0: return v/2\n",
    "    return v*2+1\n",
    "\n",
    "js=\"\"\"\n",
    "$('#textinput').off('click').on('click', function(e) {\n",
    "    \n",
    "});\n",
    "\"\"\"\n",
    "\n",
    "HTML('<script type=\"text/Javascript\">%s</script>' % (js,))"
   ]
  },
  {
   "cell_type": "code",
   "execution_count": null,
   "metadata": {
    "collapsed": true
   },
   "outputs": [],
   "source": []
  }
 ],
 "metadata": {
  "kernelspec": {
   "display_name": "Python 2",
   "language": "python",
   "name": "python2"
  },
  "language_info": {
   "codemirror_mode": {
    "name": "ipython",
    "version": 2
   },
   "file_extension": ".py",
   "mimetype": "text/x-python",
   "name": "python",
   "nbconvert_exporter": "python",
   "pygments_lexer": "ipython2",
   "version": "2.7.11"
  }
 },
 "nbformat": 4,
 "nbformat_minor": 0
}