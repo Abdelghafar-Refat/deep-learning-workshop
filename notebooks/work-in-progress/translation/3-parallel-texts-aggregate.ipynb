{
 "cells": [
  {
   "cell_type": "markdown",
   "metadata": {},
   "source": [
    "## Aggregate Parallel Texts in directory\n",
    "\n",
    "This assumes that we have a bunch of ```.csv``` files with the filename in the format ```${source}-${lang}.csv```, where each file has the header ```ts,txt``` to read in the text at each numeric timestamp."
   ]
  },
  {
   "cell_type": "code",
   "execution_count": null,
   "metadata": {
    "collapsed": true
   },
   "outputs": [],
   "source": [
    "import os\n",
    "import csv\n",
    "import time, random\n",
    "import re"
   ]
  },
  {
   "cell_type": "code",
   "execution_count": null,
   "metadata": {
    "collapsed": false
   },
   "outputs": [],
   "source": [
    "lang_from, lang_to = 'en', 'en'\n",
    "\n",
    "data_path = './data'"
   ]
  },
  {
   "cell_type": "markdown",
   "metadata": {},
   "source": [
    "Go through all the files in the directory, and find the ```source``` prefixes that have both ```lang_from``` and ```lang_to``` CSVs available."
   ]
  },
  {
   "cell_type": "code",
   "execution_count": null,
   "metadata": {
    "collapsed": false
   },
   "outputs": [],
   "source": [
    "stub_from, stub_to = set(),set()\n",
    "stub_matcher = re.compile(r\"(.*)\\-(\\w+)\\.csv\")\n",
    "for fname in os.listdir(data_path):\n",
    "    #print(fname)\n",
    "    m = stub_matcher.match(fname)\n",
    "    if m:\n",
    "        stub, lang = m.group(1), m.group(2)\n",
    "        if lang == lang_from: stub_from.add(stub)\n",
    "        if lang == lang_to:   stub_to.add(stub)\n",
    "stub_both = stub_from.intersection(stub_to)"
   ]
  },
  {
   "cell_type": "markdown",
   "metadata": {},
   "source": [
    "Now, go through ```stub_both``` and for each CSVs, read in both languages, and take all the ```txt``` entries at the same timestamps, and build the correspondence."
   ]
  },
  {
   "cell_type": "code",
   "execution_count": null,
   "metadata": {
    "collapsed": false
   },
   "outputs": [],
   "source": [
    "correspondence_loc,txt_from,txt_to=[],[],[]\n",
    "\n",
    "def read_dict_from_csv(fname):\n",
    "    d=dict()\n",
    "    with open(fname, 'r') as csvfile:\n",
    "        reader = csv.DictReader(csvfile)\n",
    "        for row in reader:\n",
    "            d[float(row['ts'])]=row['txt']\n",
    "    return d\n",
    "\n",
    "for stub in stub_both:\n",
    "    #print(\"Reading stub %s\" % (stub,))\n",
    "    data_from = read_dict_from_csv( os.path.join(data_path, stub+'-'+lang_from+'.csv') )\n",
    "    data_to   = read_dict_from_csv( os.path.join(data_path, stub+'-'+lang_to+'.csv') )\n",
    "    \n",
    "    valid, skipped=0, 0\n",
    "    for ts, txt in data_from.items():\n",
    "        if ts in data_to:\n",
    "            correspondence_loc.append( (stub, ts) )\n",
    "            txt_from.append( txt )\n",
    "            txt_to.append( data_to[ts] )\n",
    "            valid += 1\n",
    "        else:\n",
    "            skipped += 1\n",
    "    print(\"%3d valid of %3d fragments from '%s'\" % (valid, valid+skipped, stub))\n",
    "print(\"  Total data : %d text fragments\" % (len(correspondence_loc),)) "
   ]
  },
  {
   "cell_type": "code",
   "execution_count": null,
   "metadata": {
    "collapsed": false
   },
   "outputs": [],
   "source": [
    "for _ in range(10):\n",
    "    i = random.randrange(len(correspondence_loc))\n",
    "    print( txt_from[i], txt_to[i]  )"
   ]
  },
  {
   "cell_type": "markdown",
   "metadata": {},
   "source": [
    "### Tokenize the correspondences\n",
    "NB: Japanese requires word-splitting too"
   ]
  },
  {
   "cell_type": "code",
   "execution_count": null,
   "metadata": {
    "collapsed": false
   },
   "outputs": [],
   "source": [
    "if lang_from=='ja' or lang_to=='ja':\n",
    "    import tinysegmenter\n",
    "    ja_segmenter = tinysegmenter.TinySegmenter()\n",
    "\n",
    "sub_punctuation = re.compile(r'[\\,\\.\\:\\;\\?\\!\\-\\s\\\"0-9\\(\\)]+')\n",
    "sub_apostrophes = re.compile(r'\\'(\\w+)')\n",
    "sub_multispaces = re.compile(r'\\s\\s+')\n",
    "    \n",
    "def tokenize_txt(arr, lang):\n",
    "    tok=[]\n",
    "    for txt in arr:\n",
    "        t = re.sub(sub_punctuation, u' ', txt.lower())\n",
    "        if \"'\" in t:\n",
    "            t = re.sub(sub_apostrophes, r\" '\\1\", t)\n",
    "        if lang=='ja':\n",
    "            t = ' '.join( ja_segmenter.tokenize(t) )\n",
    "        t = re.sub(sub_multispaces, ' ', t)\n",
    "        tok.append(t.strip())\n",
    "    return tok"
   ]
  },
  {
   "cell_type": "code",
   "execution_count": null,
   "metadata": {
    "collapsed": false
   },
   "outputs": [],
   "source": [
    "tok_from = tokenize_txt(txt_from, lang_from)\n",
    "tok_to   = tokenize_txt(txt_to, lang_to)"
   ]
  },
  {
   "cell_type": "code",
   "execution_count": null,
   "metadata": {
    "collapsed": false
   },
   "outputs": [],
   "source": [
    "tok_from[220:250]"
   ]
  },
  {
   "cell_type": "code",
   "execution_count": null,
   "metadata": {
    "collapsed": false
   },
   "outputs": [],
   "source": [
    "tok_to[220:250]"
   ]
  },
  {
   "cell_type": "markdown",
   "metadata": {},
   "source": [
    "### Build frequency dictionaries"
   ]
  },
  {
   "cell_type": "code",
   "execution_count": null,
   "metadata": {
    "collapsed": true
   },
   "outputs": [],
   "source": []
  },
  {
   "cell_type": "markdown",
   "metadata": {},
   "source": [
    "### Build a fragment coindicedence matrix\n",
    "This might allow us to do single word translations..."
   ]
  },
  {
   "cell_type": "code",
   "execution_count": null,
   "metadata": {
    "collapsed": true
   },
   "outputs": [],
   "source": []
  }
 ],
 "metadata": {
  "kernelspec": {
   "display_name": "Python 3",
   "language": "python",
   "name": "python3"
  },
  "language_info": {
   "codemirror_mode": {
    "name": "ipython",
    "version": 3
   },
   "file_extension": ".py",
   "mimetype": "text/x-python",
   "name": "python",
   "nbconvert_exporter": "python",
   "pygments_lexer": "ipython3",
   "version": "3.5.3"
  }
 },
 "nbformat": 4,
 "nbformat_minor": 2
}