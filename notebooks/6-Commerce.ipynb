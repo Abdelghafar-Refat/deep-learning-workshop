{
 "cells": [
  {
   "cell_type": "markdown",
   "metadata": {},
   "source": [
    "# Re-Purposing a Pretrained Network\n",
    "\n"
   ]
  },
  {
   "cell_type": "markdown",
   "metadata": {},
   "source": [
    "### Output\n",
    "This notebook extracts a vector representation of a set of images using the GoogLeNet CNN pretrained on ImageNet.  It then builds a classifier, so that new images can be classified directly.\n"
   ]
  },
  {
   "cell_type": "code",
   "execution_count": null,
   "metadata": {
    "collapsed": false
   },
   "outputs": [],
   "source": [
    "import theano\n",
    "import theano.tensor as T\n",
    "\n",
    "import lasagne\n",
    "from lasagne.utils import floatX\n",
    "\n",
    "import numpy as np\n",
    "import scipy\n",
    "\n",
    "import matplotlib.pyplot as plt\n",
    "%matplotlib inline\n",
    "\n",
    "import pickle\n",
    "import time"
   ]
  },
  {
   "cell_type": "markdown",
   "metadata": {},
   "source": [
    "Functions for building the GoogLeNet model with Lasagne are defined in model.googlenet:\n",
    "\n",
    "Build the model and select layers we need - the features are taken from the final network layer, before the softmax nonlinearity."
   ]
  },
  {
   "cell_type": "code",
   "execution_count": null,
   "metadata": {
    "collapsed": false
   },
   "outputs": [],
   "source": [
    "from model import googlenet\n",
    "\n",
    "cnn_layers = googlenet.build_model()\n",
    "cnn_input_var = cnn_layers['input'].input_var\n",
    "cnn_feature_layer = cnn_layers['loss3/classifier']\n",
    "cnn_output_layer = cnn_layers['prob']\n",
    "\n",
    "get_cnn_features = theano.function([cnn_input_var], lasagne.layers.get_output(cnn_feature_layer))"
   ]
  },
  {
   "cell_type": "markdown",
   "metadata": {},
   "source": [
    "Load the pretrained weights into the network"
   ]
  },
  {
   "cell_type": "code",
   "execution_count": null,
   "metadata": {
    "collapsed": false
   },
   "outputs": [],
   "source": [
    "params = pickle.load(open('./data/googlenet/blvc_googlenet.pkl'))\n",
    "model_param_values = params['param values']\n",
    "classes = params['synset words']\n",
    "lasagne.layers.set_all_param_values(cnn_output_layer, model_param_values)"
   ]
  },
  {
   "cell_type": "markdown",
   "metadata": {},
   "source": [
    "The images need some preprocessing before they can be fed to the CNN"
   ]
  },
  {
   "cell_type": "code",
   "execution_count": null,
   "metadata": {
    "collapsed": true
   },
   "outputs": [],
   "source": [
    "MEAN_VALUES = np.array([104, 117, 123]).reshape((3,1,1))\n",
    "\n",
    "def prep_image(im):\n",
    "    if len(im.shape) == 2:\n",
    "        im = im[:, :, np.newaxis]\n",
    "        im = np.repeat(im, 3, axis=2)\n",
    "    # Resize so smallest dim = 224, preserving aspect ratio\n",
    "    h, w, _ = im.shape\n",
    "    if h < w:\n",
    "        #im = skimage.transform.resize(im, (224, w*224/h), preserve_range=True)\n",
    "        im = scipy.misc.imresize(im, (224, w*224/h))\n",
    "        \n",
    "    else:\n",
    "        #im = skimage.transform.resize(im, (h*224/w, 224), preserve_range=True)\n",
    "        im = scipy.misc.imresize(im, (h*224/w, 224))\n",
    "\n",
    "    # Central crop to 224x224\n",
    "    h, w, _ = im.shape\n",
    "    im = im[h//2-112:h//2+112, w//2-112:w//2+112]\n",
    "    \n",
    "    rawim = np.copy(im).astype('uint8')\n",
    "    \n",
    "    # Shuffle axes to c01\n",
    "    im = np.swapaxes(np.swapaxes(im, 1, 2), 0, 1)\n",
    "    \n",
    "    # Convert to BGR\n",
    "    im = im[::-1, :, :]\n",
    "\n",
    "    im = im - MEAN_VALUES\n",
    "    return rawim, floatX(im[np.newaxis])"
   ]
  },
  {
   "cell_type": "markdown",
   "metadata": {},
   "source": [
    "Now go through the input images and feature-ize them according to the pretrained network (NB: The pretraining was done on ImageNet, which is a very generic nature-oriented task)."
   ]
  },
  {
   "cell_type": "code",
   "execution_count": null,
   "metadata": {
    "collapsed": false
   },
   "outputs": [],
   "source": [
    "import os\n",
    "image_files = [f for f in os.listdir('./images/car') if not f.startswith('.')]\n",
    "image_files.sort()"
   ]
  },
  {
   "cell_type": "code",
   "execution_count": null,
   "metadata": {
    "collapsed": false
   },
   "outputs": [],
   "source": [
    "train = dict(f=[], features=[], target=[])\n",
    "\n",
    "t0 = time.time()\n",
    "for i, f in enumerate([f for f in image_files if f.startswith('classic-') or f.startswith('modern-')]):\n",
    "    im = plt.imread('./images/car/%s' % (f,))\n",
    "    rawim, cnn_im = prep_image(im)\n",
    "        \n",
    "    prob = get_cnn_features(cnn_im)\n",
    "\n",
    "    train['f'].append(f)\n",
    "    train['features'].append(prob[0])\n",
    "    train['target'].append( 1 if f.startswith('modern-') else 0)\n",
    "    \n",
    "    if True:\n",
    "        plt.figure()\n",
    "        plt.imshow(rawim.astype('uint8'))\n",
    "        plt.axis('off')\n",
    "\n",
    "        plt.text(320, 50, '{}'.format(f), fontsize=14)\n",
    "    \n",
    "print(\"DONE : %6.2f seconds each\" %(float(time.time() - t0)/len(image_files),))"
   ]
  },
  {
   "cell_type": "markdown",
   "metadata": {},
   "source": [
    "###  Build an SVM model over the features"
   ]
  },
  {
   "cell_type": "code",
   "execution_count": null,
   "metadata": {
    "collapsed": false
   },
   "outputs": [],
   "source": [
    "#dataset = json.load(open('./captions/dataset_coco.json'))['images']\n",
    "#train['features'][0]"
   ]
  },
  {
   "cell_type": "code",
   "execution_count": null,
   "metadata": {
    "collapsed": false
   },
   "outputs": [],
   "source": [
    "from sklearn import svm\n",
    "classifier = svm.LinearSVC()\n",
    "classifier.fit(train['features'], train['target']) # learn from the data "
   ]
  },
  {
   "cell_type": "markdown",
   "metadata": {},
   "source": [
    "###  Use the SVM model to classify the test set"
   ]
  },
  {
   "cell_type": "code",
   "execution_count": null,
   "metadata": {
    "collapsed": false
   },
   "outputs": [],
   "source": [
    "t0 = time.time()\n",
    "for i, f in enumerate([f for f in image_files if not (f.startswith('classic-') or f.startswith('modern-'))]):\n",
    "    im = plt.imread('./images/car/%s' % (f,))\n",
    "    rawim, cnn_im = prep_image(im)\n",
    "        \n",
    "    prob = get_cnn_features(cnn_im)\n",
    "\n",
    "    prediction_i = classifier.predict([ prob[0] ])\n",
    "    decision     = classifier.decision_function([ prob[0] ])\n",
    "                       \n",
    "    plt.figure()\n",
    "    plt.imshow(rawim.astype('uint8'))\n",
    "    plt.axis('off')\n",
    "                \n",
    "    prediction = [ 'Classic Car', 'Modern Car'][ prediction_i[0] ]\n",
    "                       \n",
    "    plt.text(350, 50, '{} : Distance from boundary = {:5.2f}'.format(prediction, decision[0]), fontsize=20)\n",
    "                 \n",
    "    \n",
    "print(\"DONE : %6.2f seconds each\" %(float(time.time() - t0)/len(image_files),))"
   ]
  },
  {
   "cell_type": "markdown",
   "metadata": {},
   "source": [
    "Did it work?"
   ]
  }
 ],
 "metadata": {
  "kernelspec": {
   "display_name": "Python 2",
   "language": "python",
   "name": "python2"
  },
  "language_info": {
   "codemirror_mode": {
    "name": "ipython",
    "version": 2
   },
   "file_extension": ".py",
   "mimetype": "text/x-python",
   "name": "python",
   "nbconvert_exporter": "python",
   "pygments_lexer": "ipython2",
   "version": "2.7.10"
  }
 },
 "nbformat": 4,
 "nbformat_minor": 0
}